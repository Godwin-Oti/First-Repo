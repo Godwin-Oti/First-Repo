{
 "cells": [
  {
   "cell_type": "code",
   "execution_count": null,
   "id": "99dbd236",
   "metadata": {},
   "outputs": [
    {
     "name": "stdout",
     "output_type": "stream",
     "text": [
      "dlroW olleH\n"
     ]
    }
   ],
   "source": [
    "txt=\"Hello World\"\n",
    "print(txt[::-1])"
   ]
  },
  {
   "cell_type": "code",
   "execution_count": null,
   "id": "69aa07a6",
   "metadata": {},
   "outputs": [
    {
     "name": "stdout",
     "output_type": "stream",
     "text": [
      "worg llahs gnuoy ehT\n"
     ]
    }
   ],
   "source": [
    "def function(x):\n",
    "    return x[::-1]\n",
    "mytxt=function(\"The young shall grow\")\n",
    "print(mytxt)"
   ]
  },
  {
   "cell_type": "code",
   "execution_count": 4,
   "id": "3d397391",
   "metadata": {},
   "outputs": [
    {
     "name": "stdout",
     "output_type": "stream",
     "text": [
      "Type a number: 4\n",
      "Type another number: 4\n",
      "The sum is:  8\n"
     ]
    }
   ],
   "source": [
    "x=input(\"Type a number: \")\n",
    "y=input(\"Type another number: \")\n",
    "sum=int(x)+int(y)\n",
    "print(\"The sum is: \", sum)"
   ]
  },
  {
   "cell_type": "code",
   "execution_count": 3,
   "id": "894a8350",
   "metadata": {},
   "outputs": [
    {
     "name": "stdout",
     "output_type": "stream",
     "text": [
      "Enter a number: 3\n",
      "Enter another number: 4\n",
      "The answer is:  7\n"
     ]
    }
   ],
   "source": [
    "x=input(\"Enter a number: \")\n",
    "y=input(\"Enter another number: \")\n",
    "sum= int(x) + int(y)\n",
    "print(\"The answer is: \", sum)"
   ]
  },
  {
   "cell_type": "code",
   "execution_count": 6,
   "id": "3db0b3b5",
   "metadata": {},
   "outputs": [
    {
     "name": "stdout",
     "output_type": "stream",
     "text": [
      "['apple', 'watermelon', 'banana', 'cherry']\n"
     ]
    }
   ],
   "source": [
    "              #inserting an element on list\n",
    "    \n",
    "thislist = [\"apple\", \"banana\", \"cherry\"]                #insert method\n",
    "\n",
    "thislist.insert(1, \"watermelon\")\n",
    "\n",
    "print(thislist) \n"
   ]
  },
  {
   "cell_type": "code",
   "execution_count": 7,
   "id": "2915335b",
   "metadata": {},
   "outputs": [
    {
     "name": "stdout",
     "output_type": "stream",
     "text": [
      "['apple', 'banana', 'cherry', 'watermelon']\n"
     ]
    }
   ],
   "source": [
    "thislist = [\"apple\", \"banana\", \"cherry\"]                    #append method\n",
    "\n",
    "thislist.append( \"watermelon\")\n",
    "\n",
    "print(thislist) \n"
   ]
  },
  {
   "cell_type": "code",
   "execution_count": 8,
   "id": "7150abbf",
   "metadata": {},
   "outputs": [
    {
     "name": "stdout",
     "output_type": "stream",
     "text": [
      "['apple', 'banana', 'cherry', 'suppe', 'corn', 'bom']\n"
     ]
    }
   ],
   "source": [
    "thislist = [\"apple\", \"banana\", \"cherry\"]                      #extend method\n",
    "thatlist=[\"suppe\",\"corn\",\"bom\"]\n",
    "thislist.extend( thatlist)\n",
    "\n",
    "print(thislist) \n"
   ]
  },
  {
   "cell_type": "code",
   "execution_count": 9,
   "id": "f8688226",
   "metadata": {},
   "outputs": [
    {
     "name": "stdout",
     "output_type": "stream",
     "text": [
      "['apple', 'banana', 'cherry', 'suppe', 'corn', 'bom']\n"
     ]
    }
   ],
   "source": [
    "thislist = [\"apple\", \"banana\", \"cherry\"]    # to add element of another list to a current list use extend method\n",
    "thatlist=(\"suppe\",\"corn\",\"bom\")\n",
    "thislist.extend( thatlist)\n",
    "\n",
    "print(thislist) \n"
   ]
  },
  {
   "cell_type": "code",
   "execution_count": 10,
   "id": "41dbcee1",
   "metadata": {},
   "outputs": [
    {
     "name": "stdout",
     "output_type": "stream",
     "text": [
      "['banana', 'cherry']\n"
     ]
    }
   ],
   "source": [
    "thislist = [\"apple\", \"banana\", \"cherry\"] #you remove element using remove method,   without inde. A specific element must be defined\n",
    "thislist.remove(\"apple\")\n",
    "print(thislist)"
   ]
  },
  {
   "cell_type": "code",
   "execution_count": 12,
   "id": "bcc9c9d3",
   "metadata": {},
   "outputs": [
    {
     "name": "stdout",
     "output_type": "stream",
     "text": [
      "['apple', 'cherry']\n"
     ]
    }
   ],
   "source": [
    "thislist = [\"apple\", \"banana\", \"cherry\"] # you remove element using pop method. without index py will remove the last element\n",
    "thislist.pop(1)\n",
    "print(thislist)"
   ]
  },
  {
   "cell_type": "code",
   "execution_count": 13,
   "id": "5c269bba",
   "metadata": {},
   "outputs": [
    {
     "name": "stdout",
     "output_type": "stream",
     "text": [
      "['apple', 'cherry']\n"
     ]
    }
   ],
   "source": [
    "thislist = [\"apple\", \"banana\", \"cherry\"]      #Also using \"del\" keyword to remove a specific index\n",
    "del thislist[1]\n",
    "print(thislist)"
   ]
  },
  {
   "cell_type": "code",
   "execution_count": 14,
   "id": "d98bd79a",
   "metadata": {},
   "outputs": [],
   "source": [
    "thislist = [\"apple\", \"banana\", \"cherry\"]       #deletes all and prints nothing\n",
    "del thislist   "
   ]
  },
  {
   "cell_type": "code",
   "execution_count": 15,
   "id": "362527fb",
   "metadata": {},
   "outputs": [
    {
     "name": "stdout",
     "output_type": "stream",
     "text": [
      "[]\n"
     ]
    }
   ],
   "source": [
    "thislist = [\"apple\", \"banana\", \"cherry\"]       #The clear method, empties the entire list\n",
    "thislist.clear()\n",
    "print(thislist)"
   ]
  },
  {
   "cell_type": "code",
   "execution_count": 6,
   "id": "5fd04952",
   "metadata": {},
   "outputs": [
    {
     "name": "stdout",
     "output_type": "stream",
     "text": [
      "0\n",
      "1\n",
      "2\n"
     ]
    }
   ],
   "source": [
    "thislist = [\"apple\", \"banana\", \"cherry\"]\n",
    "for i in range(len(thislist)):\n",
    "    print(i)\n",
    "    "
   ]
  },
  {
   "cell_type": "code",
   "execution_count": 2,
   "id": "384898c8",
   "metadata": {},
   "outputs": [
    {
     "name": "stdout",
     "output_type": "stream",
     "text": [
      "apple\n",
      "banana\n",
      "cherry\n"
     ]
    }
   ],
   "source": [
    "thislist = [\"apple\", \"banana\", \"cherry\"]     #Loop Through the Index Numbers  with for loop\n",
    "for i in range(len(thislist)):\n",
    "    print(thislist[i])\n"
   ]
  },
  {
   "cell_type": "code",
   "execution_count": null,
   "id": "429df145",
   "metadata": {},
   "outputs": [],
   "source": [
    "a=[23,34,65,78,90,34,45,65,71]      #while loop with even nums explained\n",
    "x=0                      #--- starting from index 0.\n",
    "while x <len(a):         #while the x is less than length of the list-(a)\n",
    "    if a[x]%2==0:        # if the iterable object or element(x) in the list(a) when divided by 2 is equal to 0.\n",
    "        print(a[x])     # print from the list(a) the iterable object(x).\n",
    "    x=x+1               # initialize or increase x by 1 so that the iteration will continue one after the other until the end "
   ]
  },
  {
   "cell_type": "code",
   "execution_count": 5,
   "id": "72bf495a",
   "metadata": {},
   "outputs": [
    {
     "name": "stdout",
     "output_type": "stream",
     "text": [
      "2\n",
      "4\n",
      "6\n",
      "8\n"
     ]
    }
   ],
   "source": [
    "a=[1,2,3,4,5,6,7,8]\n",
    "x=1\n",
    "while x in a:\n",
    "    if x%2==0:\n",
    "        print(x)\n",
    "    x=x+1\n",
    "        "
   ]
  },
  {
   "cell_type": "code",
   "execution_count": 6,
   "id": "255a7a40",
   "metadata": {},
   "outputs": [
    {
     "name": "stdout",
     "output_type": "stream",
     "text": [
      "['soursop', 'mango', 'carrot']\n"
     ]
    }
   ],
   "source": [
    "                  ##List comprehension creates a new list containing items that meets a specific condition from an existing one\n",
    "my=[\"apple\",\"soursop\",\"mango\",\"kiwi\",\"carrot\"]\n",
    "mys=[a for a in my if \"o\" in a]     # [expression for item in iterable list if condition == True] \n",
    "print(mys)"
   ]
  },
  {
   "cell_type": "code",
   "execution_count": 7,
   "id": "4dfebed7",
   "metadata": {},
   "outputs": [
    {
     "name": "stdout",
     "output_type": "stream",
     "text": [
      "['apple', 'soursop', 'mango', 'kiwi']\n"
     ]
    }
   ],
   "source": [
    "my=[\"apple\",\"soursop\",\"mango\",\"kiwi\",\"carrot\"]\n",
    "mys=[a for a in my if a !=\"carrot\"]     # [expression for item in iterable list if condition == True] \n",
    "print(mys)"
   ]
  },
  {
   "cell_type": "code",
   "execution_count": 8,
   "id": "7c8440bd",
   "metadata": {},
   "outputs": [
    {
     "name": "stdout",
     "output_type": "stream",
     "text": [
      "['apple', 'soursop', 'mango', 'kiwi', 'carrot']\n"
     ]
    }
   ],
   "source": [
    "my=[\"apple\",\"soursop\",\"mango\",\"kiwi\",\"carrot\"]   ## Also without an if conditon\n",
    "myx=[x for x in my]\n",
    "print(myx)"
   ]
  },
  {
   "cell_type": "code",
   "execution_count": null,
   "id": "b195e6a3",
   "metadata": {},
   "outputs": [],
   "source": [
    "mylit=[x for x in range(10)]              # list comprehension with range method\n",
    "print(mylit)"
   ]
  },
  {
   "cell_type": "code",
   "execution_count": 11,
   "id": "b4ffba21",
   "metadata": {},
   "outputs": [
    {
     "name": "stdout",
     "output_type": "stream",
     "text": [
      "[0, 1, 2, 3, 4, 5]\n"
     ]
    }
   ],
   "source": [
    "mylit=[x for x in range(10) if x < 6]            # range method with condition\n",
    "print(mylit)   "
   ]
  },
  {
   "cell_type": "code",
   "execution_count": 13,
   "id": "bb326842",
   "metadata": {},
   "outputs": [
    {
     "name": "stdout",
     "output_type": "stream",
     "text": [
      "['OTI', 'EMMA', 'NMA', 'KEN']\n"
     ]
    }
   ],
   "source": [
    "mic=[\"oti\",\"emma\",\"nma\",\"ken\"]\n",
    "mico=[x.upper() for x in mic]\n",
    "print(mico)"
   ]
  },
  {
   "cell_type": "code",
   "execution_count": 14,
   "id": "5de89443",
   "metadata": {},
   "outputs": [
    {
     "name": "stdout",
     "output_type": "stream",
     "text": [
      "['Oti', 'Oti', 'Oti', 'Oti']\n"
     ]
    }
   ],
   "source": [
    "mic=[\"oti\",\"emma\",\"nma\",\"ken\"]\n",
    "mix=[\"Oti\" for x in mic]\n",
    "print(mix)"
   ]
  },
  {
   "cell_type": "code",
   "execution_count": 17,
   "id": "8fbf6cab",
   "metadata": {},
   "outputs": [
    {
     "name": "stdout",
     "output_type": "stream",
     "text": [
      "['carrot', 'kiwi', 'lemon', 'soursop', 'mango']\n"
     ]
    }
   ],
   "source": [
    "fruits=[\"apple\",\"kiwi\",\"lemon\",\"soursop\",\"mango\"] # this means, \"Return the item if it is not apple, if it is apple return carrot\".\n",
    "mylist=[x if x !=\"apple\" else \"carrot\" for x in fruits]\n",
    "print(mylist)"
   ]
  },
  {
   "cell_type": "code",
   "execution_count": 3,
   "id": "27766691",
   "metadata": {},
   "outputs": [
    {
     "name": "stdout",
     "output_type": "stream",
     "text": [
      "[15, 13, 16, 18, 19, 10]\n"
     ]
    }
   ],
   "source": [
    "berlin = [15, 13, 16, 18, 19, 10, 12 ]\n",
    "munich = [7, 13, 15, 20, 19, 18, 10, 16]\n",
    "common=[x for x in berlin if x in munich]\n",
    "print(common)"
   ]
  },
  {
   "cell_type": "code",
   "execution_count": 5,
   "id": "49a003c2",
   "metadata": {},
   "outputs": [
    {
     "name": "stdout",
     "output_type": "stream",
     "text": [
      "Hello World\n"
     ]
    }
   ],
   "source": [
    "                        # Function\n",
    "def myfunc():\n",
    "    print(\"Hello World\")\n"
   ]
  },
  {
   "cell_type": "code",
   "execution_count": 6,
   "id": "2e30c0b7",
   "metadata": {},
   "outputs": [
    {
     "name": "stdout",
     "output_type": "stream",
     "text": [
      "Hello World\n"
     ]
    }
   ],
   "source": [
    "myfunc()"
   ]
  },
  {
   "cell_type": "code",
   "execution_count": 7,
   "id": "20e857eb",
   "metadata": {},
   "outputs": [
    {
     "name": "stdout",
     "output_type": "stream",
     "text": [
      "Hello World\n"
     ]
    }
   ],
   "source": [
    "myfunc()"
   ]
  },
  {
   "cell_type": "code",
   "execution_count": 69,
   "id": "e6a8c5e3",
   "metadata": {},
   "outputs": [
    {
     "name": "stdout",
     "output_type": "stream",
     "text": [
      "My name is Oti\n",
      "My name is Oti\n",
      "My name is Oti WELCOME!\n",
      "Thanks\n"
     ]
    }
   ],
   "source": [
    "def func(name):\n",
    "    print(\"My name is\", name)\n",
    "    print(f\"My name is {name}\")\n",
    "    print(\"My name is {} WELCOME!\".format(name))\n",
    "    print(\"Thanks\")\n",
    "func(\"Oti\")   "
   ]
  },
  {
   "cell_type": "code",
   "execution_count": 66,
   "id": "a104ce17",
   "metadata": {},
   "outputs": [
    {
     "name": "stdout",
     "output_type": "stream",
     "text": [
      "My name is Oti\n",
      "Thanks\n"
     ]
    }
   ],
   "source": [
    "func(\"Oti\")"
   ]
  },
  {
   "cell_type": "code",
   "execution_count": 56,
   "id": "df763f10",
   "metadata": {
    "scrolled": true
   },
   "outputs": [
    {
     "data": {
      "text/plain": [
       "[2, 4, 6, 8, 10]"
      ]
     },
     "execution_count": 56,
     "metadata": {},
     "output_type": "execute_result"
    }
   ],
   "source": [
    "mynum=[1,2,3,4,5,6,7,8,9,10]                    #Using Functions\n",
    "def func(mynum):\n",
    "    \n",
    "    even_num=[]\n",
    "    for num in mynum:\n",
    "        if num %2==0:\n",
    "            even_num.append(num)\n",
    "    return even_num\n",
    "func(mynum)\n",
    "\n",
    "\n",
    "\n",
    "\n",
    "    \n",
    "    "
   ]
  },
  {
   "cell_type": "code",
   "execution_count": 57,
   "id": "d5ea7b3e",
   "metadata": {},
   "outputs": [],
   "source": [
    "def check_even_list(x):\n",
    "    even_num=[]\n",
    "    for num in x:\n",
    "        if num %2==0:\n",
    "            even_num.append(num)\n",
    "    return even_num\n",
    "\n"
   ]
  },
  {
   "cell_type": "code",
   "execution_count": 60,
   "id": "e7fb2457",
   "metadata": {},
   "outputs": [],
   "source": [
    "x=[1,2,3,4,5,6,8,10]"
   ]
  },
  {
   "cell_type": "code",
   "execution_count": 61,
   "id": "c85225c6",
   "metadata": {},
   "outputs": [
    {
     "data": {
      "text/plain": [
       "[2, 4, 6, 8, 10]"
      ]
     },
     "execution_count": 61,
     "metadata": {},
     "output_type": "execute_result"
    }
   ],
   "source": [
    "check_even_list(x)"
   ]
  },
  {
   "cell_type": "code",
   "execution_count": 73,
   "id": "b02b135c",
   "metadata": {},
   "outputs": [],
   "source": [
    "ages=[31,29,34,25,27,70]\n",
    "def num(ages):\n",
    "    \n",
    "    counter=0\n",
    "    for i in ages:\n",
    "        counter+=1\n",
    "        return counter\n"
   ]
  },
  {
   "cell_type": "code",
   "execution_count": 74,
   "id": "2fc1520f",
   "metadata": {},
   "outputs": [
    {
     "data": {
      "text/plain": [
       "1"
      ]
     },
     "execution_count": 74,
     "metadata": {},
     "output_type": "execute_result"
    }
   ],
   "source": [
    "num(ages)"
   ]
  },
  {
   "cell_type": "code",
   "execution_count": 44,
   "id": "42a034a6",
   "metadata": {},
   "outputs": [],
   "source": [
    "ages=[31,29,34,25,27,70]\n",
    "\n",
    "    "
   ]
  },
  {
   "cell_type": "code",
   "execution_count": 50,
   "id": "caaf6623",
   "metadata": {},
   "outputs": [],
   "source": [
    "def my_function(child3, child2, child1):\n",
    "    print(\"The youngest child is \" + child2)"
   ]
  },
  {
   "cell_type": "code",
   "execution_count": 51,
   "id": "3b6b9392",
   "metadata": {},
   "outputs": [
    {
     "name": "stdout",
     "output_type": "stream",
     "text": [
      "The youngest child is Tobias\n"
     ]
    }
   ],
   "source": [
    "my_function(child1 = \"Emil\", child2 = \"Tobias\", child3 = \"Linus\")"
   ]
  },
  {
   "cell_type": "code",
   "execution_count": 80,
   "id": "b9fb92fe",
   "metadata": {},
   "outputs": [],
   "source": [
    "def func(name=\"Oti\"):\n",
    "    print(\"Hello\", name)\n",
    "\n"
   ]
  },
  {
   "cell_type": "code",
   "execution_count": 81,
   "id": "4ad6fc65",
   "metadata": {},
   "outputs": [
    {
     "name": "stdout",
     "output_type": "stream",
     "text": [
      "Hello Oti\n"
     ]
    }
   ],
   "source": [
    "func()"
   ]
  },
  {
   "cell_type": "code",
   "execution_count": 82,
   "id": "ea42c794",
   "metadata": {},
   "outputs": [],
   "source": [
    "def addnum(a,b):\n",
    "    return a+b\n"
   ]
  },
  {
   "cell_type": "code",
   "execution_count": 83,
   "id": "ac6f7a58",
   "metadata": {},
   "outputs": [
    {
     "data": {
      "text/plain": [
       "10"
      ]
     },
     "execution_count": 83,
     "metadata": {},
     "output_type": "execute_result"
    }
   ],
   "source": [
    "addnum(9,1)"
   ]
  },
  {
   "cell_type": "code",
   "execution_count": 87,
   "id": "34f5bf15",
   "metadata": {},
   "outputs": [],
   "source": [
    "result=addnum(9,1)"
   ]
  },
  {
   "cell_type": "code",
   "execution_count": 86,
   "id": "d03d6153",
   "metadata": {},
   "outputs": [
    {
     "data": {
      "text/plain": [
       "10"
      ]
     },
     "execution_count": 86,
     "metadata": {},
     "output_type": "execute_result"
    }
   ],
   "source": [
    "result"
   ]
  },
  {
   "cell_type": "code",
   "execution_count": 88,
   "id": "2ab505f4",
   "metadata": {},
   "outputs": [],
   "source": [
    "result1=addnum(9,1) - 2"
   ]
  },
  {
   "cell_type": "code",
   "execution_count": 89,
   "id": "e7999c79",
   "metadata": {},
   "outputs": [
    {
     "data": {
      "text/plain": [
       "8"
      ]
     },
     "execution_count": 89,
     "metadata": {},
     "output_type": "execute_result"
    }
   ],
   "source": [
    "result1"
   ]
  },
  {
   "cell_type": "code",
   "execution_count": null,
   "id": "8be63ce1",
   "metadata": {},
   "outputs": [],
   "source": []
  },
  {
   "cell_type": "code",
   "execution_count": 104,
   "id": "829c8e25",
   "metadata": {},
   "outputs": [],
   "source": [
    "def check_even(mylist):\n",
    "    for num in mylist:\n",
    "        if num %2==0:\n",
    "            return True\n",
    "        else:\n",
    "            return False\n",
    "        "
   ]
  },
  {
   "cell_type": "code",
   "execution_count": 105,
   "id": "1ed5a4b9",
   "metadata": {},
   "outputs": [
    {
     "data": {
      "text/plain": [
       "True"
      ]
     },
     "execution_count": 105,
     "metadata": {},
     "output_type": "execute_result"
    }
   ],
   "source": [
    "check_even([2,4,5,6,7])"
   ]
  },
  {
   "cell_type": "code",
   "execution_count": 106,
   "id": "beecc5d8",
   "metadata": {},
   "outputs": [],
   "source": [
    "def check_even(mylist):\n",
    "    for num in mylist:\n",
    "        if num %2==0:\n",
    "            return True\n",
    "      \n",
    "    \n",
    "        "
   ]
  },
  {
   "cell_type": "code",
   "execution_count": 108,
   "id": "39870a63",
   "metadata": {},
   "outputs": [
    {
     "data": {
      "text/plain": [
       "True"
      ]
     },
     "execution_count": 108,
     "metadata": {},
     "output_type": "execute_result"
    }
   ],
   "source": [
    "check_even([1,2,4,5,6,7])"
   ]
  },
  {
   "cell_type": "code",
   "execution_count": 125,
   "id": "1883c4f1",
   "metadata": {},
   "outputs": [],
   "source": [
    "def check_even(numlist):   ## Checking if a number is even or odd and printing them in a list \n",
    "    even_list=[]\n",
    "    odd_list=[]\n",
    "    for x in numlist:\n",
    "        if x %2==0:\n",
    "            even_list.append(x)\n",
    "        else:\n",
    "            odd_list.append(x)\n",
    "           \n",
    "    return even_list, odd_list\n",
    "            \n",
    "          "
   ]
  },
  {
   "cell_type": "code",
   "execution_count": 126,
   "id": "c9784089",
   "metadata": {},
   "outputs": [
    {
     "data": {
      "text/plain": [
       "([24, 54, 56, 80], [21, 31, 35])"
      ]
     },
     "execution_count": 126,
     "metadata": {},
     "output_type": "execute_result"
    }
   ],
   "source": [
    "check_even([24,54,21,31,35,56,80])"
   ]
  },
  {
   "cell_type": "code",
   "execution_count": 139,
   "id": "9391afcd",
   "metadata": {},
   "outputs": [],
   "source": [
    "demlist=[21,52,24,36,38,96,40,78]   #Returning list of even numbers and odd numbers in different lists\n",
    "def com(demlist):\n",
    "    even=[]\n",
    "    odd=[]\n",
    "    for num in demlist:\n",
    "        if num %2==0:\n",
    "            even.append(num)\n",
    "        else:\n",
    "            odd.append(num)\n",
    "    return even,odd\n",
    "        "
   ]
  },
  {
   "cell_type": "code",
   "execution_count": 141,
   "id": "a9343685",
   "metadata": {},
   "outputs": [
    {
     "data": {
      "text/plain": [
       "([52, 24, 36, 38, 96, 40, 78], [21])"
      ]
     },
     "execution_count": 141,
     "metadata": {},
     "output_type": "execute_result"
    }
   ],
   "source": [
    "com(demlist)"
   ]
  },
  {
   "cell_type": "code",
   "execution_count": 138,
   "id": "b206158d",
   "metadata": {},
   "outputs": [
    {
     "ename": "SyntaxError",
     "evalue": "incomplete input (621606873.py, line 7)",
     "output_type": "error",
     "traceback": [
      "\u001b[1;36m  Cell \u001b[1;32mIn[138], line 7\u001b[1;36m\u001b[0m\n\u001b[1;33m    \u001b[0m\n\u001b[1;37m    ^\u001b[0m\n\u001b[1;31mSyntaxError\u001b[0m\u001b[1;31m:\u001b[0m incomplete input\n"
     ]
    }
   ],
   "source": [
    "ages=[45,61,45,23,21,78,34,23]\n",
    "\n",
    "def agenum(ages):\n",
    "    min_ages=0\n",
    "    for min_ages in ages:\n",
    "        if min_ages<ages:\n",
    "            "
   ]
  },
  {
   "cell_type": "code",
   "execution_count": 142,
   "id": "991abd68",
   "metadata": {},
   "outputs": [
    {
     "ename": "NameError",
     "evalue": "name 'youngest_age' is not defined",
     "output_type": "error",
     "traceback": [
      "\u001b[1;31m---------------------------------------------------------------------------\u001b[0m",
      "\u001b[1;31mNameError\u001b[0m                                 Traceback (most recent call last)",
      "Cell \u001b[1;32mIn[142], line 4\u001b[0m\n\u001b[0;32m      2\u001b[0m youngest_ages\u001b[38;5;241m=\u001b[39moldest_age\u001b[38;5;241m=\u001b[39mages[\u001b[38;5;241m0\u001b[39m]\n\u001b[0;32m      3\u001b[0m \u001b[38;5;28;01mfor\u001b[39;00m age \u001b[38;5;129;01min\u001b[39;00m ages:\n\u001b[1;32m----> 4\u001b[0m     \u001b[38;5;28;01mif\u001b[39;00m age\u001b[38;5;241m<\u001b[39myoungest_age:\n\u001b[0;32m      5\u001b[0m         youngest_age\u001b[38;5;241m=\u001b[39mage\n\u001b[0;32m      6\u001b[0m     \u001b[38;5;28;01mif\u001b[39;00m age\u001b[38;5;241m>\u001b[39moldest_age:\n",
      "\u001b[1;31mNameError\u001b[0m: name 'youngest_age' is not defined"
     ]
    }
   ],
   "source": [
    "ages=[45,61,45,23,21,78,34,23]\n",
    "youngest_ages=oldest_age=ages[0]\n",
    "for age in ages:\n",
    "    if age<youngest_age:\n",
    "        youngest_age=age\n",
    "    if age>oldest_age:\n",
    "        oldest_age=age\n",
    "print(youngest_age, oldest_age)"
   ]
  },
  {
   "cell_type": "code",
   "execution_count": 152,
   "id": "910ba334",
   "metadata": {},
   "outputs": [],
   "source": [
    "ages=[45,61,45,23,21,78,34,23]\n",
    "def youngest(ages):\n",
    "    min_item=ages[0]  #  placeholder\n",
    "    for num in ages:\n",
    "        if num < min_item:\n",
    "            min_item=num\n",
    "    return min_item\n",
    "           "
   ]
  },
  {
   "cell_type": "code",
   "execution_count": 153,
   "id": "ca053113",
   "metadata": {},
   "outputs": [
    {
     "data": {
      "text/plain": [
       "21"
      ]
     },
     "execution_count": 153,
     "metadata": {},
     "output_type": "execute_result"
    }
   ],
   "source": [
    "youngest(ages)"
   ]
  },
  {
   "cell_type": "code",
   "execution_count": 155,
   "id": "3b4b1500",
   "metadata": {},
   "outputs": [],
   "source": [
    "def oldest(ages):\n",
    "    max_item=ages[0]\n",
    "    for num in ages:\n",
    "        if num > max_item:\n",
    "                max_item=num\n",
    "    return max_item"
   ]
  },
  {
   "cell_type": "code",
   "execution_count": 156,
   "id": "47719657",
   "metadata": {},
   "outputs": [
    {
     "data": {
      "text/plain": [
       "78"
      ]
     },
     "execution_count": 156,
     "metadata": {},
     "output_type": "execute_result"
    }
   ],
   "source": [
    "oldest(ages)"
   ]
  },
  {
   "cell_type": "code",
   "execution_count": 157,
   "id": "df5b28e6",
   "metadata": {},
   "outputs": [],
   "source": [
    "def young_old(ages):\n",
    "    min_item=ages[0]\n",
    "    max_item=ages[0]\n",
    "    for num in ages:\n",
    "        if num< min_item:\n",
    "            min_item=num\n",
    "        if num >max_item:\n",
    "            max_item=num\n",
    "            \n",
    "    return min_item, max_item\n",
    "        "
   ]
  },
  {
   "cell_type": "code",
   "execution_count": 158,
   "id": "a24d19ee",
   "metadata": {},
   "outputs": [
    {
     "data": {
      "text/plain": [
       "(21, 78)"
      ]
     },
     "execution_count": 158,
     "metadata": {},
     "output_type": "execute_result"
    }
   ],
   "source": [
    "young_old(ages)"
   ]
  },
  {
   "cell_type": "code",
   "execution_count": 5,
   "id": "ef3e8b37",
   "metadata": {},
   "outputs": [
    {
     "name": "stdout",
     "output_type": "stream",
     "text": [
      "21 78\n"
     ]
    }
   ],
   "source": [
    "ages=[45,61,45,23,21,78,34,23]\n",
    "least_age=ages[0]\n",
    "highest_age=ages[0]\n",
    "for age in ages:\n",
    "    if age<least_age:\n",
    "        least_age=age\n",
    "    if age>highest_age:\n",
    "        highest_age=age\n",
    "print(least_age, highest_age) \n"
   ]
  },
  {
   "cell_type": "code",
   "execution_count": 4,
   "id": "ddaaeef6",
   "metadata": {},
   "outputs": [
    {
     "name": "stdout",
     "output_type": "stream",
     "text": [
      "0 Is neither even nor odd.\n"
     ]
    }
   ],
   "source": [
    "def even_odd_check(no):\n",
    "    if no==0:\n",
    "        print(no,\"Is neither even nor odd.\")\n",
    "    elif no%2==0:\n",
    "        print(no, \"Is an even number.\")\n",
    "    else:\n",
    "        print(no,\"Is an odd number.\")\n",
    "even_odd_check(0)"
   ]
  },
  {
   "cell_type": "code",
   "execution_count": 8,
   "id": "a771a309",
   "metadata": {},
   "outputs": [],
   "source": [
    "ages=[45,61,45,23,21,78,34,23]\n",
    "def myages(ages):\n",
    "    ages.sort()\n",
    "    ages.pop(0)\n",
    "    ages.pop(-1)\n",
    "    return ages\n",
    "\n",
    "        \n",
    "       "
   ]
  },
  {
   "cell_type": "code",
   "execution_count": 9,
   "id": "1f4fca9e",
   "metadata": {},
   "outputs": [
    {
     "data": {
      "text/plain": [
       "[23, 23, 34, 45, 45, 61]"
      ]
     },
     "execution_count": 9,
     "metadata": {},
     "output_type": "execute_result"
    }
   ],
   "source": [
    "myages(ages)"
   ]
  },
  {
   "cell_type": "code",
   "execution_count": 18,
   "id": "8d441b9e",
   "metadata": {},
   "outputs": [],
   "source": [
    "ages=[45,61,45,23,21,78,34,23]\n",
    "def myages(ages):\n",
    "    ages.sort()\n",
    "    return ages[0::7]\n",
    "    return ages[-1]\n",
    "    #ages.pop(0)\n",
    "   # ages.pop(-1)\n",
    "   # return ages\n"
   ]
  },
  {
   "cell_type": "code",
   "execution_count": 19,
   "id": "8b13faf3",
   "metadata": {},
   "outputs": [
    {
     "data": {
      "text/plain": [
       "[21, 78]"
      ]
     },
     "execution_count": 19,
     "metadata": {},
     "output_type": "execute_result"
    }
   ],
   "source": [
    "myages(ages)"
   ]
  },
  {
   "cell_type": "code",
   "execution_count": null,
   "id": "3040e9ea",
   "metadata": {},
   "outputs": [],
   "source": [
    "mynum_list=[98,78,65,433,12,76,89,6]"
   ]
  },
  {
   "cell_type": "code",
   "execution_count": 23,
   "id": "0551f9bf",
   "metadata": {},
   "outputs": [
    {
     "name": "stdout",
     "output_type": "stream",
     "text": [
      "6 433\n"
     ]
    }
   ],
   "source": [
    "mynum_list=[98,78,65,433,12,76,89,6]\n",
    "lowestnum=mynum_list[0]\n",
    "highestnum=mynum_list[0]\n",
    "for num in mynum_list:\n",
    "    if num <lowestnum:\n",
    "        lowestnum=num\n",
    "    if num >highestnum:\n",
    "        highestnum=num\n",
    "print(lowestnum, highestnum)\n"
   ]
  },
  {
   "cell_type": "code",
   "execution_count": 28,
   "id": "18ff86db",
   "metadata": {},
   "outputs": [],
   "source": [
    "#mynum_list=[98,78,65,433,12,76,89,6]\n",
    "def can(mynum_list):\n",
    "    small=mynum_list[0]\n",
    "    big=mynum_list[0]\n",
    "    for x  in mynum_list:\n",
    "        if x< small:\n",
    "            small=x\n",
    "        if x>big:\n",
    "            big=x\n",
    "    return small, big\n",
    "\n",
    "    "
   ]
  },
  {
   "cell_type": "code",
   "execution_count": 29,
   "id": "254efdce",
   "metadata": {},
   "outputs": [
    {
     "data": {
      "text/plain": [
       "(6, 433)"
      ]
     },
     "execution_count": 29,
     "metadata": {},
     "output_type": "execute_result"
    }
   ],
   "source": [
    "can([98,78,65,433,12,76,89,6])"
   ]
  },
  {
   "cell_type": "code",
   "execution_count": 31,
   "id": "db151df9",
   "metadata": {},
   "outputs": [
    {
     "name": "stdout",
     "output_type": "stream",
     "text": [
      "Enter a String: Hello\n",
      "The of the string is  5\n",
      "The of the string is  5\n",
      "The of the string is  5\n",
      "The of the string is  5\n",
      "The of the string is  5\n"
     ]
    }
   ],
   "source": [
    "add=str(input(\"Enter a String: \"))\n",
    "for x in add:\n",
    "    print(\"The of the string is \", len(add))\n",
    "    "
   ]
  },
  {
   "cell_type": "code",
   "execution_count": 40,
   "id": "80ed836c",
   "metadata": {},
   "outputs": [
    {
     "name": "stdout",
     "output_type": "stream",
     "text": [
      "Enter a string: hi\n",
      "The length of the string is:  2\n"
     ]
    }
   ],
   "source": [
    "add= input(\"Enter a string: \")\n",
    "y=0\n",
    "for x in add:\n",
    "    y+=1\n",
    "    \n",
    "print(\"The length of the string is: \", y)\n",
    "    "
   ]
  },
  {
   "cell_type": "code",
   "execution_count": 37,
   "id": "ac32cc8a",
   "metadata": {},
   "outputs": [
    {
     "name": "stdout",
     "output_type": "stream",
     "text": [
      "get_length: Hi\n",
      "Length of string is:  2\n"
     ]
    }
   ],
   "source": [
    "a=input(\"get_length: \")   ## calculating the length of string using input function 1\n",
    "length=0\n",
    "for _ in a:\n",
    "    length+=1\n",
    "print(\"Length of string is: \",length)"
   ]
  },
  {
   "cell_type": "code",
   "execution_count": 43,
   "id": "75ef15f5",
   "metadata": {},
   "outputs": [
    {
     "name": "stdout",
     "output_type": "stream",
     "text": [
      "Please a string: Oti\n",
      "The length of the string is:  3\n"
     ]
    }
   ],
   "source": [
    "my_name=input(\"Please a string: \")             ## konwing the length of a string as an input  without using a function\n",
    "\n",
    "length=0\n",
    "for letter in my_name:\n",
    "    length+=1\n",
    "print(\"The length of the string is: \", length)"
   ]
  },
  {
   "cell_type": "code",
   "execution_count": 58,
   "id": "b8ce474c",
   "metadata": {},
   "outputs": [
    {
     "name": "stdout",
     "output_type": "stream",
     "text": [
      "Please enter a string: God is good\n",
      "The length of the string is:  11\n"
     ]
    }
   ],
   "source": [
    "my_name=input(\"Please enter a string: \")       ## konwing the length of a string or to count it, as an input using a function\n",
    "def name(my_name):\n",
    "    length=0\n",
    "    for let in my_name:\n",
    "        \n",
    "        length+=1  \n",
    "    print (\"The length of the string is: \", length)\n",
    "name(my_name)\n"
   ]
  },
  {
   "cell_type": "code",
   "execution_count": 66,
   "id": "26a7fe5d",
   "metadata": {},
   "outputs": [
    {
     "name": "stdout",
     "output_type": "stream",
     "text": [
      "8\n"
     ]
    }
   ],
   "source": [
    "mynum_list=[98,78,65,433,12,76,89,6]    ## counting a string to know the length\n",
    "counter=0\n",
    "for x in mynum_list:\n",
    "    counter+=1\n",
    "print(counter)\n"
   ]
  },
  {
   "cell_type": "code",
   "execution_count": 72,
   "id": "9d0623b1",
   "metadata": {},
   "outputs": [
    {
     "name": "stdout",
     "output_type": "stream",
     "text": [
      "8\n"
     ]
    }
   ],
   "source": [
    "mynum_list=[98,78,65,433,12,76,89,6]    ## counting a string to know the length\n",
    "def come(mynum_list):\n",
    "    counter=0\n",
    "    for x in mynum_list:\n",
    "        counter+=1\n",
    "    print(counter)\n",
    "come(mynum_list)\n"
   ]
  },
  {
   "cell_type": "code",
   "execution_count": 75,
   "id": "2708d5c9",
   "metadata": {},
   "outputs": [],
   "source": [
    "def mylove(*name):\n",
    "    print(\"The name of my love is \"+name[1])"
   ]
  },
  {
   "cell_type": "code",
   "execution_count": 76,
   "id": "9a9a3812",
   "metadata": {},
   "outputs": [
    {
     "name": "stdout",
     "output_type": "stream",
     "text": [
      "The name of my love is Nneka\n"
     ]
    }
   ],
   "source": [
    "mylove(\"Miracle\",\"Nneka\",\"Nkechi\")"
   ]
  },
  {
   "cell_type": "code",
   "execution_count": 81,
   "id": "ac362381",
   "metadata": {},
   "outputs": [
    {
     "name": "stdout",
     "output_type": "stream",
     "text": [
      "The name of my love is ken\n"
     ]
    }
   ],
   "source": [
    "def mylove(name=\"Joy\"):\n",
    "        print(\"The name of my love is \"+name)\n",
    "mylove(\"ken\")\n"
   ]
  },
  {
   "cell_type": "code",
   "execution_count": 88,
   "id": "4f5271c2",
   "metadata": {},
   "outputs": [
    {
     "name": "stdout",
     "output_type": "stream",
     "text": [
      "My wife's name is Franca\n"
     ]
    }
   ],
   "source": [
    "def mylove(**name):\n",
    "    print(\"My wife's name is \"+name[\"name2\"])\n",
    "mylove(name1=\"Ogechi\", name2=\"Franca\",name3=\"Asanwa\")"
   ]
  },
  {
   "cell_type": "code",
   "execution_count": 94,
   "id": "9c26aac8",
   "metadata": {},
   "outputs": [
    {
     "name": "stdout",
     "output_type": "stream",
     "text": [
      "paw paw\n",
      "mango\n",
      "orange\n"
     ]
    }
   ],
   "source": [
    "food=[\"Beans\",\"Suppe\",\"Rice\"]\n",
    "def fruit(food):\n",
    "    for x in food :\n",
    "        print(x)\n",
    "fruits=[\"paw paw\",\"mango\",\"orange\"]\n",
    "fruit(fruits)"
   ]
  },
  {
   "cell_type": "markdown",
   "id": "f6e65f31",
   "metadata": {},
   "source": [
    "   ### FOR LOOPS EXERCISES"
   ]
  },
  {
   "cell_type": "code",
   "execution_count": 1,
   "id": "99897b87",
   "metadata": {},
   "outputs": [
    {
     "name": "stdout",
     "output_type": "stream",
     "text": [
      "Oti\n",
      "Godwin\n",
      "Chmebuka\n"
     ]
    }
   ],
   "source": [
    "name=[\"Oti\",\"Godwin\",\"Chmebuka\"]   #lopping through a list\n",
    "for x in name:\n",
    "    print(x)"
   ]
  },
  {
   "cell_type": "code",
   "execution_count": 3,
   "id": "97486b22",
   "metadata": {},
   "outputs": [
    {
     "name": "stdout",
     "output_type": "stream",
     "text": [
      "G\n",
      "o\n",
      "d\n",
      "w\n",
      "i\n",
      "n\n"
     ]
    }
   ],
   "source": [
    "for x in \"Godwin\":    # looping through a string\n",
    "    print(x)"
   ]
  },
  {
   "cell_type": "code",
   "execution_count": 6,
   "id": "b04f02a1",
   "metadata": {},
   "outputs": [
    {
     "name": "stdout",
     "output_type": "stream",
     "text": [
      "apple\n",
      "banana\n"
     ]
    }
   ],
   "source": [
    "                            ##break statement\n",
    "fruits = [\"apple\", \"banana\", \"cherry\"]\n",
    "for x in fruits:\n",
    "    print(x)\n",
    "    if x==\"banana\":   # this means if x is equal to banana then stop and dont print further.    break comes after the print\n",
    "        break\n",
    "    \n",
    "   "
   ]
  },
  {
   "cell_type": "code",
   "execution_count": 11,
   "id": "aea70d10",
   "metadata": {},
   "outputs": [
    {
     "name": "stdout",
     "output_type": "stream",
     "text": [
      "apple\n"
     ]
    }
   ],
   "source": [
    "fruits = [\"apple\", \"banana\", \"cherry\"]\n",
    "for x in fruits:\n",
    "    if x==\"banana\":   # this means if x is equal to banana then stop and dont print further.break comes before the print\n",
    "        break\n",
    "    print(x)"
   ]
  },
  {
   "cell_type": "code",
   "execution_count": 14,
   "id": "f6eb2bfc",
   "metadata": {},
   "outputs": [
    {
     "name": "stdout",
     "output_type": "stream",
     "text": [
      "apple\n",
      "banana\n",
      "cherry\n",
      "paw paw\n",
      "soursop\n"
     ]
    }
   ],
   "source": [
    "fruits = [\"apple\", \"banana\", \"cherry\", \"mango\",\"paw paw\",\"soursop\"] ##continue statement\n",
    "for x in fruits:\n",
    "    if x ==\"mango\":  #this means if x is equal to mango it will be skipped and then continue with the lopping of other items\n",
    "        continue\n",
    "    print(x)"
   ]
  },
  {
   "cell_type": "code",
   "execution_count": 16,
   "id": "c71bed7f",
   "metadata": {},
   "outputs": [
    {
     "name": "stdout",
     "output_type": "stream",
     "text": [
      "0\n",
      "1\n",
      "2\n",
      "3\n",
      "4\n"
     ]
    }
   ],
   "source": [
    "for x in range(5): ### range function helps to loop through a set of code a specified number of times. By defualt range start from 0 index\n",
    "    print(x)"
   ]
  },
  {
   "cell_type": "code",
   "execution_count": 15,
   "id": "6fe886f7",
   "metadata": {},
   "outputs": [
    {
     "name": "stdout",
     "output_type": "stream",
     "text": [
      "5\n",
      "8\n",
      "11\n",
      "14\n",
      "17\n",
      "20\n",
      "23\n",
      "26\n",
      "29\n",
      "32\n"
     ]
    }
   ],
   "source": [
    "for x in range(5,35,3):## defining a start, end point and also increments. By defualt is actually by 1 \n",
    "    print(x)"
   ]
  },
  {
   "cell_type": "code",
   "execution_count": 19,
   "id": "28310ca4",
   "metadata": {},
   "outputs": [
    {
     "name": "stdout",
     "output_type": "stream",
     "text": [
      "0\n",
      "1\n",
      "2\n",
      "3\n",
      "4\n",
      "Finally finished\n"
     ]
    }
   ],
   "source": [
    "for x in range(5):   # printing a message when the loop has ended. ##Make use of else statement. \n",
    "    print(x)\n",
    "else:\n",
    "    print(\"Finally finished\")\n",
    "\n"
   ]
  },
  {
   "cell_type": "markdown",
   "id": "7b9d260a",
   "metadata": {},
   "source": [
    "### Nested Loop "
   ]
  },
  {
   "cell_type": "code",
   "execution_count": 21,
   "id": "cc4e55a0",
   "metadata": {},
   "outputs": [
    {
     "name": "stdout",
     "output_type": "stream",
     "text": [
      "Oti Ngozi\n",
      "Oti Claudia\n",
      "Oti Nma\n",
      "Oti Ifeanyi\n",
      "Oti Godwin\n",
      "Oti Emma\n",
      "Ifenkwe Ngozi\n",
      "Ifenkwe Claudia\n",
      "Ifenkwe Nma\n",
      "Ifenkwe Ifeanyi\n",
      "Ifenkwe Godwin\n",
      "Ifenkwe Emma\n",
      "Ibeneme Ngozi\n",
      "Ibeneme Claudia\n",
      "Ibeneme Nma\n",
      "Ibeneme Ifeanyi\n",
      "Ibeneme Godwin\n",
      "Ibeneme Emma\n",
      "Dike Ngozi\n",
      "Dike Claudia\n",
      "Dike Nma\n",
      "Dike Ifeanyi\n",
      "Dike Godwin\n",
      "Dike Emma\n"
     ]
    }
   ],
   "source": [
    "my_family=[\"Oti\",\"Ifenkwe\",\"Ibeneme\",\"Dike\"]  #The \"inner loop\" will be executed one time for each iteration of the \"outer loop\":\n",
    "my_name=[\"Ngozi\",\"Claudia\",\"Nma\",\"Ifeanyi\",\"Godwin\",\"Emma\"]\n",
    "for x in my_family:\n",
    "    for y in my_name:\n",
    "        print(x,y)"
   ]
  },
  {
   "cell_type": "markdown",
   "id": "008589a8",
   "metadata": {},
   "source": [
    "### While loops"
   ]
  },
  {
   "cell_type": "code",
   "execution_count": 29,
   "id": "c6059245",
   "metadata": {},
   "outputs": [
    {
     "name": "stdout",
     "output_type": "stream",
     "text": [
      "1\n",
      "2\n",
      "3\n",
      "4\n"
     ]
    }
   ],
   "source": [
    "   #With the while loop we can execute a set of statements as long as a condition is true.\n",
    "x=1  # The while loop requires variables to be ready, in this example we need to def an indexing variable, x, which we set to 1.\n",
    "while x <5:       #Print x as long as x is less than 5:\n",
    "    print(x)\n",
    "    x+=1"
   ]
  },
  {
   "cell_type": "code",
   "execution_count": 2,
   "id": "89e70bae",
   "metadata": {},
   "outputs": [
    {
     "name": "stdout",
     "output_type": "stream",
     "text": [
      "1\n",
      "2\n",
      "3\n"
     ]
    }
   ],
   "source": [
    "          # break statement in while loop\n",
    "x=1\n",
    "while x <5:                       #Exit the loop when i is 3\n",
    "    print(x)\n",
    "    if x==3: #This means that when x is equal to 3 it wont print further \n",
    "        break      \n",
    "    x+=1"
   ]
  },
  {
   "cell_type": "code",
   "execution_count": null,
   "id": "d917e437",
   "metadata": {},
   "outputs": [],
   "source": [
    "fruits = [\"apple\",\"banana\", \"cherry\", \"mango\",\"paw paw\",\"soursop\"]\n",
    "y=0\n",
    "while y < len(fruits):\n",
    "    if fruits[y]==\"cherry\":\n",
    "        #continue\n",
    "        print(fruits[y])\n",
    "        y+=1"
   ]
  },
  {
   "cell_type": "code",
   "execution_count": 1,
   "id": "c4ad8f96",
   "metadata": {},
   "outputs": [
    {
     "name": "stdout",
     "output_type": "stream",
     "text": [
      "apple\n",
      "banana\n",
      "cherry\n"
     ]
    }
   ],
   "source": [
    "fruits = [\"apple\",\"banana\", \"cherry\", \"mango\",\"paw paw\",\"soursop\"]\n",
    "x=0\n",
    "while x< len(fruits):\n",
    "    print(fruits[x])\n",
    "    if fruits[x] ==\"cherry\":\n",
    "        break\n",
    "    x+=1\n",
    "        "
   ]
  },
  {
   "cell_type": "code",
   "execution_count": 1,
   "id": "2e82f0b8",
   "metadata": {},
   "outputs": [
    {
     "name": "stdout",
     "output_type": "stream",
     "text": [
      "1\n",
      "2\n",
      "4\n",
      "5\n"
     ]
    }
   ],
   "source": [
    "x =0\n",
    "while x<5:\n",
    "    x+=1\n",
    "    if x ==3:\n",
    "        continue\n",
    "    print(x)"
   ]
  },
  {
   "cell_type": "code",
   "execution_count": 1,
   "id": "24790313",
   "metadata": {},
   "outputs": [
    {
     "name": "stdout",
     "output_type": "stream",
     "text": [
      "apple\n",
      "banana\n",
      "There's none here\n",
      "mango\n",
      "paw paw\n",
      "There's none here\n"
     ]
    }
   ],
   "source": [
    "fruits = [\"apple\",\"banana\", \"cherry\", \"mango\",\"paw paw\",\"soursop\"] # else statement is returned when the conditions are not true\n",
    "x=0\n",
    "while x <len(fruits):\n",
    "    if \"a\" in fruits[x]:\n",
    "        print(fruits[x])\n",
    "    else:\n",
    "        print(\"There's none here\")\n",
    "    x+=1\n",
    "   "
   ]
  },
  {
   "cell_type": "markdown",
   "id": "a3454665",
   "metadata": {},
   "source": [
    "### IF....ELSE          CONDITIONAL STATEMENTS"
   ]
  },
  {
   "cell_type": "code",
   "execution_count": 2,
   "id": "38c7723d",
   "metadata": {},
   "outputs": [
    {
     "name": "stdout",
     "output_type": "stream",
     "text": [
      "A is greater than B\n"
     ]
    }
   ],
   "source": [
    "a=45\n",
    "b=12\n",
    "if a >b:\n",
    "    print(\"A is greater than B\")"
   ]
  },
  {
   "cell_type": "code",
   "execution_count": 4,
   "id": "199cb8c8",
   "metadata": {},
   "outputs": [
    {
     "name": "stdout",
     "output_type": "stream",
     "text": [
      "a and b are equal\n"
     ]
    }
   ],
   "source": [
    "a=33    #The elif keyword is Python's way of saying \"if the previous conditions were not true, then try this condition\".       \n",
    "b=33\n",
    "if b >a:\n",
    "    print(\"b is greater than a\")\n",
    "elif a==b:\n",
    "    print(\"a and b are equal\")\n",
    "    \n",
    "    \n",
    "    "
   ]
  },
  {
   "cell_type": "code",
   "execution_count": 5,
   "id": "17cbc9ed",
   "metadata": {},
   "outputs": [
    {
     "name": "stdout",
     "output_type": "stream",
     "text": [
      "b is greater than a\n"
     ]
    }
   ],
   "source": [
    "a=350   #The else keyword catches anything which isn't caught by the preceding conditions.\n",
    "b=600\n",
    "if a>b:\n",
    "    print(\"a is greater than b\")\n",
    "elif a==b:\n",
    "    print(\"a and b are equal\")\n",
    "    \n",
    "else:\n",
    "    print(\"b is greater than a\")\n",
    "        "
   ]
  },
  {
   "cell_type": "code",
   "execution_count": 6,
   "id": "734a4caf",
   "metadata": {},
   "outputs": [
    {
     "name": "stdout",
     "output_type": "stream",
     "text": [
      "All are correct\n"
     ]
    }
   ],
   "source": [
    "a=34                   ##\"and\" is keyword used to combine conditonal statements\n",
    "b=40\n",
    "c=45\n",
    "if b >a and c>b:\n",
    "    print(\"All are correct\")"
   ]
  },
  {
   "cell_type": "code",
   "execution_count": 8,
   "id": "01f688d3",
   "metadata": {},
   "outputs": [
    {
     "name": "stdout",
     "output_type": "stream",
     "text": [
      "Either one is correct\n"
     ]
    }
   ],
   "source": [
    "a=34                   ##\"or\" is keyword used to combine conditonal statements\n",
    "b=40\n",
    "c=45\n",
    "if b >a or c>b:\n",
    "    print(\"Either one is correct\")"
   ]
  },
  {
   "cell_type": "code",
   "execution_count": 11,
   "id": "4f54ffe7",
   "metadata": {},
   "outputs": [
    {
     "name": "stdout",
     "output_type": "stream",
     "text": [
      "a is NOT greater than b\n"
     ]
    }
   ],
   "source": [
    "a=34         ##The \"not\" keyword is a logical operator, and is used to reverse the result of the conditional statement:\n",
    "b=40\n",
    "if not a >b:\n",
    "    print(\"a is NOT greater than b\")"
   ]
  },
  {
   "cell_type": "code",
   "execution_count": 12,
   "id": "6cf2eae8",
   "metadata": {},
   "outputs": [
    {
     "name": "stdout",
     "output_type": "stream",
     "text": [
      "x is above 20\n",
      "x is also above 40\n"
     ]
    }
   ],
   "source": [
    "  ## Nested If     You can have if statements inside if statements, this is called nested if statements.\n",
    "x=50\n",
    "if x >20:\n",
    "    print(\"x is above 20\")\n",
    "    if x >40:\n",
    "        print(\"x is also above 40\")\n",
    "    else:\n",
    "        print(\"but not above 40\")\n",
    "        "
   ]
  },
  {
   "cell_type": "code",
   "execution_count": null,
   "id": "67429bf1",
   "metadata": {},
   "outputs": [],
   "source": [
    "a=[2, 4, 0, 100, 4, 11, 2602, 36] # 11\n",
    "b=[160, 3, 1719, 19, 11, 13, -21] # 160\n",
    "find_outlier([2, 4, 6, 8, 10, 3])  #3 \n",
    "for x in a,b,find_outlier:\n",
    "    if a[x]%2==1:\n",
    "        print(a[x], \"Is the odd number\")\n",
    "    #if b[x]%2==0:\n",
    "       # print(b[x],\"Is the even number\")\n",
    "   # if find_outlier[x]\n"
   ]
  },
  {
   "cell_type": "code",
   "execution_count": 1,
   "id": "988a31c0",
   "metadata": {},
   "outputs": [
    {
     "name": "stdout",
     "output_type": "stream",
     "text": [
      "11 is an odd number\n",
      "160 is a even number\n"
     ]
    }
   ],
   "source": [
    "a=[2, 4, 0, 100, 4, 11, 2602, 36] # 11\n",
    "b=[160, 3, 1719, 19, 11, 13, -21] # 160\n",
    "find_outlier=([2, 4, 6, 8, 10, 3])  #3 \n",
    "for x in a:\n",
    "      if x%2==1:\n",
    "        print(x,\"is an odd number\")\n",
    "for y in b:\n",
    "      if y%2==0:\n",
    "        print(y, \"is a even number\")\n",
    "\n",
    "#,b,find_outlier:\n",
    "       # print (x, \"Is the odd number\")\n",
    "   # if b[x]%2==0:\n",
    "      #  print(b[x],\"Is the even number\")"
   ]
  },
  {
   "cell_type": "code",
   "execution_count": null,
   "id": "018ff3d7",
   "metadata": {},
   "outputs": [],
   "source": [
    "o=[2,4,6,8,10,3]\n",
    "p=[2%2==0]\n",
    "#for d in o:\n",
    "   # if d%2==0:\n",
    "      # d is p\n",
    "       #if d != p:\n",
    "         #  print(d)\n",
    "    #else:\n",
    "      ## d%2!=0\n",
    "#d is not p\n",
    "      # print(d)\n",
    "d=0\n",
    "while d <len(o):\n",
    "      if d%2==0:\n",
    "         d is p\n",
    "         if d is not p:\n",
    "              print(d, \"is the outlier\")\n",
    "              d+=1"
   ]
  },
  {
   "cell_type": "code",
   "execution_count": null,
   "id": "11c52eba",
   "metadata": {},
   "outputs": [],
   "source": [
    "o=[2,4,6,8,10,3]\n",
    "p=o[0]%2==0 \n",
    "\n",
    "d=0\n",
    "while d <len(o):\n",
    "    if d%2==0:\n",
    "        d is p\n",
    "        if d%2!=0:\n",
    "            print(d, \"is the outlier\")\n",
    "            d+=1"
   ]
  },
  {
   "cell_type": "code",
   "execution_count": null,
   "id": "fead2a4d",
   "metadata": {},
   "outputs": [],
   "source": []
  },
  {
   "cell_type": "code",
   "execution_count": null,
   "id": "d3c6f09b",
   "metadata": {},
   "outputs": [],
   "source": []
  }
 ],
 "metadata": {
  "kernelspec": {
   "display_name": "Python 3 (ipykernel)",
   "language": "python",
   "name": "python3"
  },
  "language_info": {
   "codemirror_mode": {
    "name": "ipython",
    "version": 3
   },
   "file_extension": ".py",
   "mimetype": "text/x-python",
   "name": "python",
   "nbconvert_exporter": "python",
   "pygments_lexer": "ipython3",
   "version": "3.11.5"
  }
 },
 "nbformat": 4,
 "nbformat_minor": 5
}
