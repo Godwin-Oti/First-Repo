{
 "cells": [
  {
   "cell_type": "code",
   "execution_count": 3,
   "id": "3b3fb57a",
   "metadata": {},
   "outputs": [
    {
     "name": "stdout",
     "output_type": "stream",
     "text": [
      "Oti Godwin\n"
     ]
    }
   ],
   "source": [
    "my_name=\"Oti Godwin\"\n",
    "print(my_name)"
   ]
  },
  {
   "cell_type": "code",
   "execution_count": 7,
   "id": "30deba54",
   "metadata": {},
   "outputs": [
    {
     "name": "stdout",
     "output_type": "stream",
     "text": [
      "30\n"
     ]
    }
   ],
   "source": [
    "age=30\n",
    "print(age)"
   ]
  },
  {
   "cell_type": "code",
   "execution_count": null,
   "id": "404d2dae",
   "metadata": {},
   "outputs": [],
   "source": []
  },
  {
   "cell_type": "code",
   "execution_count": 11,
   "id": "0260768f",
   "metadata": {},
   "outputs": [
    {
     "name": "stdout",
     "output_type": "stream",
     "text": [
      "5\n"
     ]
    }
   ],
   "source": [
    "my_age=30\n",
    "julia_age=25\n",
    "age_dff=my_age - julia_age\n",
    "print(age_dff)"
   ]
  },
  {
   "cell_type": "code",
   "execution_count": 14,
   "id": "3ddaf9af",
   "metadata": {},
   "outputs": [
    {
     "name": "stdout",
     "output_type": "stream",
     "text": [
      "I am a young man\n"
     ]
    }
   ],
   "source": [
    "my_age=30\n",
    "if my_age<= 35:\n",
    "    print(\"I am a young man\")\n",
    "else:\n",
    "    print(\"I am a old man\")"
   ]
  },
  {
   "cell_type": "code",
   "execution_count": 15,
   "id": "16b5ff9e",
   "metadata": {},
   "outputs": [
    {
     "name": "stdout",
     "output_type": "stream",
     "text": [
      "Oti is older than Julia\n"
     ]
    }
   ],
   "source": [
    "my_age=30\n",
    "julia_age=25\n",
    "if my_age>=julia_age:\n",
    "    print(\"Oti is older than Julia\")\n",
    "else:\n",
    "    print(\"Julia is older than Oti\")"
   ]
  },
  {
   "cell_type": "code",
   "execution_count": 9,
   "id": "23da7130",
   "metadata": {},
   "outputs": [
    {
     "name": "stdout",
     "output_type": "stream",
     "text": [
      "Andrea Pierre\n",
      "Andrea\n",
      "Gabi\n",
      "Kyllian\n",
      "Lucas\n",
      "Muayad\n",
      "Oti\n",
      "Patricia\n",
      "Pierre\n"
     ]
    }
   ],
   "source": [
    "rainbow_chameleons_mentor=[\"Andrea\",\"Oti\",\"Lucas\",\"Pierre\",\"Patricia\",\"Gabi\",\"Kyllian\",\"Muayad\"]\n",
    "rainbow_chameleons_mentor.sort()\n",
    "print(rainbow_chameleons_mentor[0], rainbow_chameleons_mentor[-1])\n",
    "#print(rainbow_chameleons_mentor [-1])\n",
    "#print(rainbow_chameleons[\n",
    "for x in rainbow_chameleons_mentor:\n",
    "      print (x)"
   ]
  },
  {
   "cell_type": "code",
   "execution_count": 32,
   "id": "8b170b05",
   "metadata": {},
   "outputs": [
    {
     "name": "stdout",
     "output_type": "stream",
     "text": [
      "[27, 30, 29, 36, 32, 28]\n",
      "30\n",
      "36\n",
      "32\n",
      "28\n"
     ]
    }
   ],
   "source": [
    "rainbow_chameleons_age=[27,30,29,36,32,28]\n",
    "print(rainbow_chameleons_age)\n",
    "for x  in rainbow_chameleons_age:\n",
    "        if x % 2==0:\n",
    "            print(x)"
   ]
  },
  {
   "cell_type": "code",
   "execution_count": null,
   "id": "6c2970ae",
   "metadata": {},
   "outputs": [],
   "source": []
  },
  {
   "cell_type": "code",
   "execution_count": 5,
   "id": "640bed25",
   "metadata": {},
   "outputs": [
    {
     "name": "stdout",
     "output_type": "stream",
     "text": [
      "Enter Number: 20\n",
      "2\n",
      "4\n",
      "6\n",
      "8\n",
      "10\n",
      "12\n",
      "14\n",
      "16\n",
      "18\n",
      "20\n"
     ]
    }
   ],
   "source": [
    "a=int(input(\"Enter Number: \"))\n",
    "x=1\n",
    "while x<=a:\n",
    "    if x%2==0:\n",
    "        print(x)\n",
    "    x+=1"
   ]
  },
  {
   "cell_type": "code",
   "execution_count": 1,
   "id": "2734a0c4",
   "metadata": {},
   "outputs": [
    {
     "name": "stdout",
     "output_type": "stream",
     "text": [
      "30\n",
      "36\n",
      "32\n",
      "28\n"
     ]
    }
   ],
   "source": [
    "rainbow_chameleons_age=[27,30,29,36,32,28]\n",
    "for x in rainbow_chameleons_age:\n",
    "    if x%2==0:\n",
    "        print(x)\n"
   ]
  },
  {
   "cell_type": "code",
   "execution_count": 3,
   "id": "11dbc86c",
   "metadata": {},
   "outputs": [
    {
     "name": "stdout",
     "output_type": "stream",
     "text": [
      "34\n",
      "36\n",
      "34\n",
      "20\n"
     ]
    }
   ],
   "source": [
    "a=[23,34,45,36,34,20]   #printing only even numbers using for numbers.\n",
    "for x in a:\n",
    "    if x%2==0:\n",
    "        print(x)"
   ]
  },
  {
   "cell_type": "code",
   "execution_count": 6,
   "id": "35f245b1",
   "metadata": {},
   "outputs": [
    {
     "name": "stdout",
     "output_type": "stream",
     "text": [
      "2\n",
      "4\n",
      "6\n",
      "8\n"
     ]
    }
   ],
   "source": [
    "a=[1,2,3,4,5,6,7,8,9]  #printing only even number using while loop\n",
    "x=1\n",
    "while x in a:\n",
    "    if x%2==0:\n",
    "        print(x)\n",
    "    x+=1"
   ]
  },
  {
   "cell_type": "code",
   "execution_count": 6,
   "id": "29670000",
   "metadata": {},
   "outputs": [
    {
     "name": "stdout",
     "output_type": "stream",
     "text": [
      "2\n"
     ]
    }
   ],
   "source": [
    "a =[4,5,3,2,6,7,8,9]\n",
    "x=min(a)\n",
    "print(x)"
   ]
  },
  {
   "cell_type": "code",
   "execution_count": 7,
   "id": "21030229",
   "metadata": {},
   "outputs": [
    {
     "name": "stdout",
     "output_type": "stream",
     "text": [
      "78\n"
     ]
    }
   ],
   "source": [
    "a=[34,54,5,6,78,9]\n",
    "x=max(a)\n",
    "print(x)"
   ]
  },
  {
   "cell_type": "code",
   "execution_count": 8,
   "id": "c68f81a8",
   "metadata": {},
   "outputs": [
    {
     "name": "stdout",
     "output_type": "stream",
     "text": [
      "1999\n",
      "1995\n",
      "2005\n",
      "2010\n",
      "2007\n",
      "2006\n",
      "1994\n",
      "1996\n",
      "1979\n",
      "2008\n"
     ]
    }
   ],
   "source": [
    "yob=[1999, 1995, 2005, 2010, 2007, 2006, 1994, 1996, 1979, 2008]\n",
    "for x in yob:\n",
    "    print(x)\n"
   ]
  },
  {
   "cell_type": "code",
   "execution_count": 41,
   "id": "48dca3d6",
   "metadata": {},
   "outputs": [
    {
     "name": "stdout",
     "output_type": "stream",
     "text": [
      "Bob 1999\n",
      "Jack 1995\n",
      "Lisa 2005\n",
      "Maria 2010\n",
      "Ben 2007\n",
      "Emma 2006\n",
      "Oscar 1994\n",
      "Amy 1996\n",
      "Paul 1979\n",
      "Etta 2008\n"
     ]
    }
   ],
   "source": [
    "                                                               ##Exercise 11 (1)\n",
    "customer_list = [\n",
    "                    {\"name\": \"Bob\", \"age\": 1999},\n",
    "                    {\"name\": \"Jack\", \"age\": 1995},\n",
    "                    {\"name\": \"Lisa\", \"age\": 2005},\n",
    "                    {\"name\": \"Maria\", \"age\": 2010},\n",
    "                    {\"name\": \"Ben\", \"age\": 2007},\n",
    "                    {\"name\": \"Emma\", \"age\": 2006},\n",
    "                    {\"name\": \"Oscar\", \"age\": 1994},\n",
    "                    {\"name\": \"Amy\", \"age\": 1996},\n",
    "                    {\"name\": \"Paul\", \"age\": 1979},\n",
    "                    {\"name\": \"Etta\", \"age\": 2008}\n",
    "                ]\n",
    "for x in customer_list:\n",
    "    print(x[\"name\"],x[\"age\"])\n"
   ]
  },
  {
   "cell_type": "code",
   "execution_count": 48,
   "id": "7b61b28e",
   "metadata": {},
   "outputs": [
    {
     "name": "stdout",
     "output_type": "stream",
     "text": [
      "Bob was born in 1999\n",
      "Jack was born in 1995\n",
      "Lisa was born in 2005\n",
      "Maria was born in 2010\n",
      "Ben was born in 2007\n",
      "Emma was born in 2006\n",
      "Oscar was born in 1994\n",
      "Amy was born in 1996\n",
      "Paul was born in 1979\n",
      "Etta was born in 2008\n"
     ]
    }
   ],
   "source": [
    "                                                                  ##Exercise 11 (2)\n",
    "customer_list = [\n",
    "                    {\"name\": \"Bob\", \"age\": 1999},\n",
    "                    {\"name\": \"Jack\", \"age\": 1995},\n",
    "                    {\"name\": \"Lisa\", \"age\": 2005},\n",
    "                    {\"name\": \"Maria\", \"age\": 2010},\n",
    "                    {\"name\": \"Ben\", \"age\": 2007},\n",
    "                    {\"name\": \"Emma\", \"age\": 2006},\n",
    "                    {\"name\": \"Oscar\", \"age\": 1994},\n",
    "                    {\"name\": \"Amy\", \"age\": 1996},\n",
    "                    {\"name\": \"Paul\", \"age\": 1979},\n",
    "                    {\"name\": \"Etta\", \"age\": 2008}\n",
    "                ]\n",
    "for x in customer_list:\n",
    "    print(x[\"name\"], \"was born in\",x[\"age\"])"
   ]
  },
  {
   "cell_type": "code",
   "execution_count": 12,
   "id": "127d37cf",
   "metadata": {},
   "outputs": [
    {
     "name": "stdout",
     "output_type": "stream",
     "text": [
      "[20, 24, 14, 12, 13, 25, 23, 40, 11]\n"
     ]
    }
   ],
   "source": [
    "ages = [20, 24, 14, 9, 12, 13, 25, 23, 40, 11]\n",
    "ages.remove(9)\n",
    "print(ages)"
   ]
  },
  {
   "cell_type": "code",
   "execution_count": 13,
   "id": "bbbe355c",
   "metadata": {},
   "outputs": [
    {
     "name": "stdout",
     "output_type": "stream",
     "text": [
      "[20, 24, 14, 9, 12, 13, 25, 23, 11]\n"
     ]
    }
   ],
   "source": [
    "ages = [20, 24, 14, 9, 12, 13, 25, 23, 40, 11]\n",
    "ages.remove(40)\n",
    "print(ages)"
   ]
  },
  {
   "cell_type": "code",
   "execution_count": 2,
   "id": "a9a36d6c",
   "metadata": {},
   "outputs": [
    {
     "name": "stdout",
     "output_type": "stream",
     "text": [
      "[15, 13, 16, 18, 19, 10]\n"
     ]
    }
   ],
   "source": [
    "berlin = [15, 13, 16, 18, 19, 10, 12 ]\n",
    "munich = [7, 13, 15, 20, 19, 18, 10, 16]\n",
    "\n",
    "common=[]\n",
    "for x in berlin:\n",
    "    if x in munich:\n",
    "        if x not in common:\n",
    "            common.append(x)\n",
    "print(common)"
   ]
  },
  {
   "cell_type": "code",
   "execution_count": 3,
   "id": "b8dd79ff",
   "metadata": {},
   "outputs": [
    {
     "name": "stdout",
     "output_type": "stream",
     "text": [
      "[15, 13, 16, 18, 19, 10]\n"
     ]
    }
   ],
   "source": [
    "berlin = [15, 13, 16, 18, 19, 10, 12 ]        # Using List Comprehension\n",
    "munich = [7, 13, 15, 20, 19, 18, 10, 16]\n",
    "common=[x for x in berlin if x in munich]\n",
    "print(common)"
   ]
  },
  {
   "cell_type": "code",
   "execution_count": 8,
   "id": "12ac5c42",
   "metadata": {},
   "outputs": [
    {
     "name": "stdout",
     "output_type": "stream",
     "text": [
      "[15, 13, 16, 18, 19, 10]\n"
     ]
    }
   ],
   "source": [
    "berlin = [15, 13, 16, 18, 19, 10, 12 ]\n",
    "munich = [7, 13, 15, 20, 19, 18, 10, 16]\n",
    "c=[]\n",
    "for x in berlin:\n",
    "    if x in munich:\n",
    "        if x not in c:\n",
    "            c.append(x)\n",
    "print(c)"
   ]
  },
  {
   "cell_type": "code",
   "execution_count": 9,
   "id": "7228d2b6",
   "metadata": {},
   "outputs": [
    {
     "name": "stdout",
     "output_type": "stream",
     "text": [
      "[15, 13, 16, 18, 19, 10]\n"
     ]
    }
   ],
   "source": [
    "a=[15,13,16,18,19,15,10]  ##first method to remove duplicate for list using for loop\n",
    "b=[]\n",
    "for x in a:\n",
    "    if x not in b:\n",
    "        b.append(x)\n",
    "print(b)"
   ]
  },
  {
   "cell_type": "code",
   "execution_count": 11,
   "id": "984f8d16",
   "metadata": {},
   "outputs": [
    {
     "name": "stdout",
     "output_type": "stream",
     "text": [
      "{15: None, 13: None, 16: None, 18: None, 19: None, 10: None}\n"
     ]
    }
   ],
   "source": [
    "a=[15,13,16,18,19,15,10]\n",
    "my=dict.fromkeys(a)\n",
    "print(my)"
   ]
  },
  {
   "cell_type": "code",
   "execution_count": 12,
   "id": "9832411f",
   "metadata": {},
   "outputs": [
    {
     "name": "stdout",
     "output_type": "stream",
     "text": [
      "[15, 13, 16, 18, 19, 10]\n"
     ]
    }
   ],
   "source": [
    "mylist=list(my)\n",
    "print(mylist)"
   ]
  },
  {
   "cell_type": "code",
   "execution_count": 13,
   "id": "b714d984",
   "metadata": {},
   "outputs": [
    {
     "name": "stdout",
     "output_type": "stream",
     "text": [
      "[15, 13, 16, 18, 19, 10]\n"
     ]
    }
   ],
   "source": [
    "berlin =[15,13,16,18,19,15,10]  ##second method to remove duplicate for list using dictionary method\n",
    "mydict=dict.fromkeys(berlin)\n",
    "mylist=list(mydict)\n",
    "print(mylist)\n"
   ]
  },
  {
   "cell_type": "code",
   "execution_count": 4,
   "id": "6012cf48",
   "metadata": {},
   "outputs": [
    {
     "name": "stdout",
     "output_type": "stream",
     "text": [
      "Welcome Evelyn, have a nice day!\n"
     ]
    }
   ],
   "source": [
    "                            ##Exercise 15\n",
    "def welcome():\n",
    "    print(\"Welcome Evelyn, have a nice day!\")\n",
    "welcome()"
   ]
  },
  {
   "cell_type": "code",
   "execution_count": 4,
   "id": "5f943aba",
   "metadata": {},
   "outputs": [],
   "source": [
    "def welcome(fname,lname):\n",
    "    print(\"Welcome\",fname,\"have a nice day!\")\n",
    "    print(\"Welcome\", lname, \"have a nice a day!\")\n"
   ]
  },
  {
   "cell_type": "code",
   "execution_count": 5,
   "id": "05053a8b",
   "metadata": {},
   "outputs": [
    {
     "name": "stdout",
     "output_type": "stream",
     "text": [
      "Welcome Jost have a nice day!\n",
      "Welcome Evelyn have a nice a day!\n"
     ]
    }
   ],
   "source": [
    "welcome(\"Jost\",\"Evelyn\")"
   ]
  },
  {
   "cell_type": "code",
   "execution_count": 7,
   "id": "7e7a88ea",
   "metadata": {},
   "outputs": [
    {
     "name": "stdout",
     "output_type": "stream",
     "text": [
      "Welcome Jost, have a nice day!\n"
     ]
    }
   ],
   "source": [
    "def welcome():\n",
    "    print(\"Welcome Jost, have a nice day!\")\n",
    "welcome()"
   ]
  },
  {
   "cell_type": "code",
   "execution_count": 14,
   "id": "2d4bccb4",
   "metadata": {},
   "outputs": [
    {
     "name": "stdout",
     "output_type": "stream",
     "text": [
      "get_length: Hello\n",
      "Length of string is:  5\n"
     ]
    }
   ],
   "source": [
    "a=input(\"get_length: \")   ## calculating the length of string using input function 1\n",
    "length=0\n",
    "for _ in a:\n",
    "    length+=1\n",
    "print(\"Length of string is: \",length)"
   ]
  },
  {
   "cell_type": "code",
   "execution_count": 9,
   "id": "f03b78a6",
   "metadata": {},
   "outputs": [
    {
     "name": "stdout",
     "output_type": "stream",
     "text": [
      "5\n",
      "<class 'str'>\n"
     ]
    }
   ],
   "source": [
    "a=\"Hello\"                        ##calculating the length of string using length function or method\n",
    "print(len(a))\n",
    "print(type(a))"
   ]
  },
  {
   "cell_type": "code",
   "execution_count": 12,
   "id": "1ee80e52",
   "metadata": {},
   "outputs": [
    {
     "name": "stdout",
     "output_type": "stream",
     "text": [
      "Enter name: Oti Godwin\n",
      "My name is  Oti Godwin\n"
     ]
    }
   ],
   "source": [
    "a=input(\"Enter name: \")\n",
    "print(\"My name is \",a)"
   ]
  },
  {
   "cell_type": "code",
   "execution_count": 13,
   "id": "025d83f3",
   "metadata": {},
   "outputs": [
    {
     "name": "stdout",
     "output_type": "stream",
     "text": [
      "get_length: Hi\n",
      "Length of string is  2\n"
     ]
    }
   ],
   "source": [
    "a=input(\"get_length: \")         ## calculating the length of string using input function 2\n",
    "length=0\n",
    "for _ in a:\n",
    "    length+=1\n",
    "print(\"Length of string is \",length)"
   ]
  },
  {
   "cell_type": "code",
   "execution_count": 31,
   "id": "68888ec6",
   "metadata": {},
   "outputs": [
    {
     "name": "stdout",
     "output_type": "stream",
     "text": [
      "Enter number: 3\n",
      "3  is odd number.\n"
     ]
    }
   ],
   "source": [
    "good=int(input(\"Enter number: \"))  ##checking if a number is even or odd number\n",
    "def check_even(good):\n",
    "    if good%2==0:\n",
    "        print(good, \" is even number.\")\n",
    "    else:\n",
    "        print(good,\" is odd number.\")\n",
    "check_even(good)"
   ]
  },
  {
   "cell_type": "code",
   "execution_count": 11,
   "id": "dcc8b566",
   "metadata": {},
   "outputs": [
    {
     "name": "stdout",
     "output_type": "stream",
     "text": [
      "Enter a number: 20\n",
      "Yes 20\n"
     ]
    }
   ],
   "source": [
    "a=int(input(\"Enter a number: \"))  ## checking if a number is odd or even  1\n",
    "if a%2==0:\n",
    "    print(\"Yes\", a)\n",
    "else:\n",
    "    print(\"No \",a)"
   ]
  },
  {
   "cell_type": "code",
   "execution_count": 30,
   "id": "6664b663",
   "metadata": {},
   "outputs": [
    {
     "name": "stdout",
     "output_type": "stream",
     "text": [
      "Enter number: 35\n",
      "No! 35 is not even number\n"
     ]
    }
   ],
   "source": [
    "num=int(input(\"Enter number: \"))     ## checking if a number is odd or even  2####\n",
    "def check_even(num):      # function definition\n",
    "    if num ==0:\n",
    "        print(num, \"is neither even nor odd number\")\n",
    "    \n",
    "    elif num %2==0:\n",
    "        print(\" Yes!\",num, \"is even number\")\n",
    "    else:\n",
    "        print(\"No!\",num,\"is not even number\")\n",
    "check_even(num)   # function calling"
   ]
  },
  {
   "cell_type": "code",
   "execution_count": null,
   "id": "3101b8ed",
   "metadata": {},
   "outputs": [],
   "source": [
    "no=int(input(\"Enter number: \"))      # Checking if a number is even or odd\n",
    "def even_odd_check(no):\n",
    "    if no==0:\n",
    "        print(no,\"Is neither even nor odd.\")\n",
    "    elif no%2==0:\n",
    "        print(no, \"Is an even number.\")\n",
    "    else:\n",
    "        print(no,\"Is an odd number.\")\n",
    "even_odd_check(no)"
   ]
  },
  {
   "cell_type": "code",
   "execution_count": null,
   "id": "ac2f1ec2",
   "metadata": {},
   "outputs": [],
   "source": [
    "                                        # Checking if a number is even or odd\n",
    "def even_odd_check(no):\n",
    "    if no==0:\n",
    "        print(no,\"Is neither even nor odd.\")\n",
    "    elif no%2==0:\n",
    "        print(no, \"Is an even number.\")\n",
    "    else:\n",
    "        print(no,\"Is an odd number.\")\n",
    "even_odd_check(3)"
   ]
  },
  {
   "cell_type": "code",
   "execution_count": 9,
   "id": "dd4ca5f1",
   "metadata": {},
   "outputs": [
    {
     "name": "stdout",
     "output_type": "stream",
     "text": [
      "[1, 2, 3, 4, 5, 6, 7, 8]\n"
     ]
    }
   ],
   "source": [
    "my=[2,3,4,5,4,1,6,7,8,3,2,6,7,8,2,1] #removing duplicates from lists and sorting using dictionary method\n",
    "mydict=dict.fromkeys(my)\n",
    "mylist=list(mydict)\n",
    "mylist.sort()\n",
    "print(mylist)"
   ]
  },
  {
   "cell_type": "code",
   "execution_count": 13,
   "id": "d0cf760f",
   "metadata": {},
   "outputs": [
    {
     "name": "stdout",
     "output_type": "stream",
     "text": [
      "[2, 3, 4, 5, 1, 6, 7, 8]\n"
     ]
    }
   ],
   "source": [
    "my=[2,3,4,5,4,1,6,7,8,3,2,6,7,8,2,1] # removing duplicates from list using if in for loop\n",
    "c=[]\n",
    "for x in my:\n",
    "    if x not in c:\n",
    "        c.append(x)\n",
    "        c.sort\n",
    "print(c)"
   ]
  },
  {
   "cell_type": "code",
   "execution_count": 18,
   "id": "f9aa96cd",
   "metadata": {},
   "outputs": [
    {
     "name": "stdout",
     "output_type": "stream",
     "text": [
      "[2, 3, 4, 5, 6, 7, 8, 9]\n"
     ]
    }
   ],
   "source": [
    "my=[3,2,4,5,6,7,8,9,7,6,5,4,3,2,3,4,5,6,7,8,9] ### Also removing duplicates from list using Dictionary method nested in list fuction.\n",
    "mylist=list(dict.fromkeys(my))\n",
    "mylist.sort()\n",
    "print(mylist)"
   ]
  },
  {
   "cell_type": "code",
   "execution_count": 19,
   "id": "72e8180b",
   "metadata": {},
   "outputs": [
    {
     "name": "stdout",
     "output_type": "stream",
     "text": [
      "['Oti', 'Godwin', 'Chimebuka', 'Chibuzor', 'Onyemaobi']\n"
     ]
    }
   ],
   "source": [
    "def my_func(x):                    #removing duplicates  using fuction \n",
    "    return list(dict.fromkeys(x))\n",
    "mylist=my_func([\"Oti\",\"Godwin\",\"Oti\",\"Chimebuka\",\"Oti\",\"Godwin\",\"Godwin\",\"Chimebuka\",\"Chibuzor\",\"Onyemaobi\",\"Oti\",\"Chibuzor\",\"Onyemaobi\"])\n",
    "print(mylist)"
   ]
  },
  {
   "cell_type": "code",
   "execution_count": 21,
   "id": "b15fa414",
   "metadata": {},
   "outputs": [
    {
     "name": "stdout",
     "output_type": "stream",
     "text": [
      "['Chibuzor', 'Chimebuka', 'Godwin', 'Onyemaobi', 'Oti']\n"
     ]
    }
   ],
   "source": [
    "def myfuction(x):                        #removing duplicates  using fuction and also sorting it.\n",
    "    return list(dict.fromkeys(x))\n",
    "mylist=myfuction([\"Oti\",\"Godwin\",\"Oti\",\"Chimebuka\",\"Oti\",\"Godwin\",\"Godwin\",\"Chimebuka\",\"Chibuzor\",\"Onyemaobi\",\"Oti\",\"Chibuzor\",\"Onyemaobi\"])\n",
    "mylist.sort()\n",
    "print(mylist)"
   ]
  },
  {
   "cell_type": "code",
   "execution_count": 40,
   "id": "f92a9937",
   "metadata": {},
   "outputs": [
    {
     "name": "stdout",
     "output_type": "stream",
     "text": [
      "Bob  was born in  1999\n",
      "Jack  was born in  1995\n",
      "Lisa  was born in  2005\n",
      "Maria  was born in  2010\n",
      "Ben  was born in  2007\n",
      "Emma  was born in  2006\n",
      "Oscar  was born in  1994\n",
      "Amy  was born in  1996\n",
      "Paul  was born in  1979\n",
      "Etta  was born in  2008\n"
     ]
    }
   ],
   "source": [
    "customer_list = [\n",
    "                    {\"name\": \"Bob\", \"age\": 1999},\n",
    "                    {\"name\": \"Jack\", \"age\": 1995},\n",
    "                    {\"name\": \"Lisa\", \"age\": 2005},\n",
    "                    {\"name\": \"Maria\", \"age\": 2010},\n",
    "                    {\"name\": \"Ben\", \"age\": 2007},\n",
    "                    {\"name\": \"Emma\", \"age\": 2006},\n",
    "                    {\"name\": \"Oscar\", \"age\": 1994},\n",
    "                    {\"name\": \"Amy\", \"age\": 1996},\n",
    "                    {\"name\": \"Paul\", \"age\": 1979},\n",
    "                    {\"name\": \"Etta\", \"age\": 2008}\n",
    "                ]\n",
    "for x in customer_list:\n",
    "    print(x[\"name\"],\" was born in \",x[\"age\"])\n",
    "    #print(\"I am \",x[\"age\"],)\n"
   ]
  },
  {
   "cell_type": "code",
   "execution_count": 38,
   "id": "7ea70370",
   "metadata": {},
   "outputs": [
    {
     "name": "stdout",
     "output_type": "stream",
     "text": [
      "Bob 1999\n",
      "Jack 1995\n",
      "Lisa 2005\n",
      "Maria 2010\n",
      "Ben 2007\n",
      "Emma 2006\n",
      "Oscar 1994\n",
      "Amy 1996\n",
      "Paul 1979\n",
      "Etta 2008\n"
     ]
    }
   ],
   "source": [
    "customer_list = [\n",
    "                    {\"name\": \"Bob\", \"age\": 1999},\n",
    "                    {\"name\": \"Jack\", \"age\": 1995},\n",
    "                    {\"name\": \"Lisa\", \"age\": 2005},\n",
    "                    {\"name\": \"Maria\", \"age\": 2010},\n",
    "                    {\"name\": \"Ben\", \"age\": 2007},\n",
    "                    {\"name\": \"Emma\", \"age\": 2006},\n",
    "                    {\"name\": \"Oscar\", \"age\": 1994},\n",
    "                    {\"name\": \"Amy\", \"age\": 1996},\n",
    "                    {\"name\": \"Paul\", \"age\": 1979},\n",
    "                    {\"name\": \"Etta\", \"age\": 2008}\n",
    "                ]\n",
    "for x in customer_list:\n",
    "    print(x[\"name\"],x[\"age\"])\n",
    "    "
   ]
  },
  {
   "cell_type": "code",
   "execution_count": null,
   "id": "1f1be595",
   "metadata": {},
   "outputs": [],
   "source": [
    "########Exercise 18"
   ]
  },
  {
   "cell_type": "code",
   "execution_count": 61,
   "id": "0d8145ef",
   "metadata": {},
   "outputs": [
    {
     "name": "stdout",
     "output_type": "stream",
     "text": [
      "Bob 1999\n",
      "Jack 1995\n",
      "Lisa 2005\n",
      "Maria 2010\n",
      "Ben 2007\n",
      "Emma 2006\n",
      "Oscar 1994\n",
      "Amy 1996\n",
      "Paul 1979\n",
      "Etta 2008\n",
      "Bob  was born in  1999\n",
      "Jack  was born in  1995\n",
      "Lisa  was born in  2005\n",
      "Maria  was born in  2010\n",
      "Ben  was born in  2007\n",
      "Emma  was born in  2006\n",
      "Oscar  was born in  1994\n",
      "Amy  was born in  1996\n",
      "Paul  was born in  1979\n",
      "Etta  was born in  2008\n"
     ]
    }
   ],
   "source": [
    "                      #rewriting exercise 11 in a function!\n",
    "def myfunction():\n",
    "\n",
    "     customer_list = [\n",
    "                    {\"name\": \"Bob\", \"age\": 1999},\n",
    "                    {\"name\": \"Jack\", \"age\": 1995},\n",
    "                    {\"name\": \"Lisa\", \"age\": 2005},\n",
    "                    {\"name\": \"Maria\", \"age\": 2010},\n",
    "                    {\"name\": \"Ben\", \"age\": 2007},\n",
    "                    {\"name\": \"Emma\", \"age\": 2006},\n",
    "                    {\"name\": \"Oscar\", \"age\": 1994},\n",
    "                    {\"name\": \"Amy\", \"age\": 1996},\n",
    "                    {\"name\": \"Paul\", \"age\": 1979},\n",
    "                    {\"name\": \"Etta\", \"age\": 2008}\n",
    "                ]\n",
    "\n",
    "for x in customer_list:\n",
    "        print(x[\"name\"],x[\"age\"])      \n",
    "\n",
    "for x in customer_list:\n",
    "            print(x[\"name\"],\" was born in \",x[\"age\"])   \n",
    "myfunction()"
   ]
  },
  {
   "cell_type": "code",
   "execution_count": 72,
   "id": "b12cce17",
   "metadata": {},
   "outputs": [
    {
     "name": "stdout",
     "output_type": "stream",
     "text": [
      "[10, 13, 15, 16, 18, 19]\n"
     ]
    }
   ],
   "source": [
    "                                     ##rewriting exercise 13 in a function \n",
    "def myfunc():                         \n",
    "    berlin = [15, 13, 16, 18, 19, 10, 12 ]\n",
    "    munich = [7, 13, 15, 20, 19, 18, 10, 16]\n",
    "    common=[]\n",
    "    for x in berlin:\n",
    "        if x in munich:\n",
    "            if x not in common:\n",
    "                common.append(x)\n",
    "                common.sort()\n",
    "    print(common)\n",
    "myfunc()"
   ]
  },
  {
   "cell_type": "code",
   "execution_count": 76,
   "id": "4735ac6d",
   "metadata": {},
   "outputs": [
    {
     "name": "stdout",
     "output_type": "stream",
     "text": [
      "[10, 13, 15, 16, 18, 19]\n"
     ]
    }
   ],
   "source": [
    "                                ### rewriting exercise 14 in a function using Dictionary method because it does not accept duplicate.(1)\n",
    "def myfunction():\n",
    "    a=[15,13,16,18,19,15,10]\n",
    "    mylist=dict.fromkeys(a)\n",
    "    my=list(mylist)\n",
    "    my.sort()\n",
    "    print(my)\n",
    "myfunction()    "
   ]
  },
  {
   "cell_type": "code",
   "execution_count": 80,
   "id": "9942e65d",
   "metadata": {},
   "outputs": [
    {
     "name": "stdout",
     "output_type": "stream",
     "text": [
      "[10, 13, 15, 16, 18, 19]\n"
     ]
    }
   ],
   "source": [
    "                            ###rewriting exercise 14 in a function using if statement in for loop\n",
    "def function():\n",
    "    a=[15,13,16,18,19,15,10]\n",
    "    b=[]\n",
    "    for x in a:\n",
    "        if x not in b:\n",
    "            b.append(x)\n",
    "            b.sort()\n",
    "    print(b)\n",
    "function()"
   ]
  },
  {
   "cell_type": "code",
   "execution_count": 82,
   "id": "ad046a7b",
   "metadata": {},
   "outputs": [
    {
     "name": "stdout",
     "output_type": "stream",
     "text": [
      "Bob 1999\n",
      "Jack 1995\n",
      "Lisa 2005\n",
      "Maria 2010\n",
      "Ben 2007\n",
      "Emma 2006\n",
      "Oscar 1994\n",
      "Amy 1996\n",
      "Paul 1979\n",
      "Etta 2008\n",
      "Bob was born in  1999\n",
      "Jack was born in  1995\n",
      "Lisa was born in  2005\n",
      "Maria was born in  2010\n",
      "Ben was born in  2007\n",
      "Emma was born in  2006\n",
      "Oscar was born in  1994\n",
      "Amy was born in  1996\n",
      "Paul was born in  1979\n",
      "Etta was born in  2008\n",
      "[10, 13, 15, 16, 18, 19]\n",
      "[10, 13, 15, 16, 18, 19]\n",
      "Welcome Evelyn, have a nice day!\n",
      "Welcome Jost, have a nice day!\n"
     ]
    }
   ],
   "source": [
    "def my_function():         \n",
    "    customer_list = [\n",
    "                    {\"name\": \"Bob\", \"age\": 1999},\n",
    "                    {\"name\": \"Jack\", \"age\": 1995},\n",
    "                    {\"name\": \"Lisa\", \"age\": 2005},\n",
    "                    {\"name\": \"Maria\", \"age\": 2010},\n",
    "                    {\"name\": \"Ben\", \"age\": 2007},\n",
    "                    {\"name\": \"Emma\", \"age\": 2006},\n",
    "                    {\"name\": \"Oscar\", \"age\": 1994},\n",
    "                    {\"name\": \"Amy\", \"age\": 1996},\n",
    "                    {\"name\": \"Paul\", \"age\": 1979},\n",
    "                    {\"name\": \"Etta\", \"age\": 2008}\n",
    "                ]\n",
    "    for x in customer_list:\n",
    "        print(x[\"name\"],x[\"age\"])  ##exercise 11a\n",
    "    for x in customer_list:\n",
    "        print(x[\"name\"],\"was born in \",x[\"age\"])  ###exercise 11b\n",
    "        \n",
    "    berlin = [15, 13, 16, 18, 19, 10, 12 ]\n",
    "    munich = [7, 13, 15, 20, 19, 18, 10, 16]\n",
    "    common=[]\n",
    "    for x in berlin:\n",
    "        if x in munich:\n",
    "            if x not in common:\n",
    "                common.append(x)\n",
    "                common.sort()\n",
    "    print(common)                  ###exercise 13\n",
    "    a=[15,13,16,18,19,15,10]\n",
    "    my=dict.fromkeys(a)\n",
    "    mylist=list(my)\n",
    "    mylist.sort()\n",
    "    print(mylist)                  ##exercise 14\n",
    "    \n",
    "    a=\"Welcome Evelyn, have a nice day!\"\n",
    "    b=\"Welcome Jost, have a nice day!\"\n",
    "    print(a)\n",
    "    print(b)                    ##exercise 15\n",
    "    \n",
    "    \n",
    "my_function()"
   ]
  },
  {
   "cell_type": "code",
   "execution_count": 10,
   "id": "22345f28",
   "metadata": {},
   "outputs": [
    {
     "name": "stdout",
     "output_type": "stream",
     "text": [
      "Enter Value: 6\n",
      "Yes!\n"
     ]
    }
   ],
   "source": [
    "num=int(input(\"Enter Value: \"))              ##writing a fucntion taht takes input and values as well as heck if the vales is on the list##\n",
    "def function(num):\n",
    "    mylist=[1,3,4,5,6,7,8,9,]\n",
    "    #for x in mylist:\n",
    "    if num  in mylist:\n",
    "        print(\"Yes!\")\n",
    "    else:\n",
    "        print(\"No\")\n",
    "function(num)"
   ]
  },
  {
   "cell_type": "code",
   "execution_count": 11,
   "id": "c4c3d80c-e7ec-438f-82ae-e42612590e29",
   "metadata": {},
   "outputs": [
    {
     "name": "stdin",
     "output_type": "stream",
     "text": [
      "Enter Value:  1994\n"
     ]
    },
    {
     "name": "stdout",
     "output_type": "stream",
     "text": [
      "True\n"
     ]
    }
   ],
   "source": [
    "num=int(input(\"Enter Value: \"))                ##writing a fucntion taht takes input and values as well as heck if the vales is on the list##\n",
    "def function(num):\n",
    "    mylist=[1990,1993,1994,1995,1996,1997,1998,1999,]\n",
    "   # for x in mylist:\n",
    "    if num in mylist:\n",
    "         print(\"True\")\n",
    "    else:\n",
    "         print(\"False\")\n",
    "function(num)\n"
   ]
  },
  {
   "cell_type": "code",
   "execution_count": 19,
   "id": "68550d49-a9ef-4c95-b6a0-cdf0c9349060",
   "metadata": {},
   "outputs": [
    {
     "name": "stdout",
     "output_type": "stream",
     "text": [
      "[9, 11, 12, 13, 14, 20, 23, 24, 25, 40]\n",
      "[11, 12, 13, 14, 20, 23, 24, 25, 40]\n",
      "[11, 12, 13, 14, 20, 23, 24, 25]\n"
     ]
    }
   ],
   "source": [
    "ages = [20, 24, 14, 9, 12, 13, 25, 23, 40, 11]   #### removing the youngest and the oldest person without the use of min() and max()  Exercise 12\n",
    "ages.sort()\n",
    "print(ages)\n",
    "print(ages[1:])\n",
    "print(ages[1:9])"
   ]
  },
  {
   "cell_type": "code",
   "execution_count": 3,
   "id": "b1a8f26b-6762-4881-b9be-f29d3f8cfc74",
   "metadata": {},
   "outputs": [
    {
     "name": "stdout",
     "output_type": "stream",
     "text": [
      "My name is  Oti Godwin\n"
     ]
    }
   ],
   "source": [
    "my_name=\"Oti Godwin\"\n",
    "print(\"My name is \", my_name)\n",
    "\n"
   ]
  }
 ],
 "metadata": {
  "kernelspec": {
   "display_name": "Python 3 (ipykernel)",
   "language": "python",
   "name": "python3"
  },
  "language_info": {
   "codemirror_mode": {
    "name": "ipython",
    "version": 3
   },
   "file_extension": ".py",
   "mimetype": "text/x-python",
   "name": "python",
   "nbconvert_exporter": "python",
   "pygments_lexer": "ipython3",
   "version": "3.11.5"
  }
 },
 "nbformat": 4,
 "nbformat_minor": 5
}
