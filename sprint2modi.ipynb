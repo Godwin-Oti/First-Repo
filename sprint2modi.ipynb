{
 "cells": [
  {
   "cell_type": "code",
   "execution_count": 3,
   "metadata": {},
   "outputs": [
    {
     "name": "stdout",
     "output_type": "stream",
     "text": [
      "Hello World!\n"
     ]
    }
   ],
   "source": [
    "print(\"Hello World!\")    "
   ]
  },
  {
   "cell_type": "code",
   "execution_count": 1,
   "metadata": {},
   "outputs": [
    {
     "name": "stdout",
     "output_type": "stream",
     "text": [
      "My name is Oti Godwin\n"
     ]
    }
   ],
   "source": [
    "my_name=\"Oti Godwin\"           #Exercise 1\n",
    "print(\"My name is\", my_name)\n"
   ]
  },
  {
   "cell_type": "code",
   "execution_count": 2,
   "metadata": {},
   "outputs": [
    {
     "name": "stdout",
     "output_type": "stream",
     "text": [
      "I am 29 years old.\n"
     ]
    }
   ],
   "source": [
    "my_age=29                      #Exercise 2\n",
    "print(\"I am\",my_age,\"years old.\")"
   ]
  },
  {
   "cell_type": "code",
   "execution_count": 3,
   "metadata": {},
   "outputs": [
    {
     "name": "stdout",
     "output_type": "stream",
     "text": [
      "I am 4 years older than Julia.\n"
     ]
    }
   ],
   "source": [
    "julia_age=25                   #Exercise 3\n",
    "my_age=29\n",
    "age_dff=my_age-julia_age\n",
    "print(\"I am\",age_dff, \"years older than Julia.\")"
   ]
  },
  {
   "cell_type": "code",
   "execution_count": 4,
   "metadata": {},
   "outputs": [
    {
     "name": "stdout",
     "output_type": "stream",
     "text": [
      "I am older than  21\n"
     ]
    }
   ],
   "source": [
    "my_age=29                    #Exercise 4\n",
    "if my_age< 21:\n",
    "    print(\"I am younger than\",21)\n",
    "elif my_age==21:\n",
    "    print(\"We are the same age\")\n",
    "else:\n",
    "    print(\"I am older than \",21)"
   ]
  },
  {
   "cell_type": "code",
   "execution_count": 16,
   "metadata": {},
   "outputs": [
    {
     "name": "stdout",
     "output_type": "stream",
     "text": [
      "Julia is older than me\n"
     ]
    }
   ],
   "source": [
    "my_age=29          #Exercise 5\n",
    "julia_age=44\n",
    "if my_age<julia_age:\n",
    "    print(\"Julia is older than me\")\n",
    "elif my_age>julia_age:\n",
    "    print(\"Julia is younger than me\")\n",
    "else:\n",
    "    print(\"I am the same age with\")\n"
   ]
  },
  {
   "cell_type": "code",
   "execution_count": 17,
   "metadata": {},
   "outputs": [
    {
     "name": "stdout",
     "output_type": "stream",
     "text": [
      "Anderas\n",
      "Pierre\n",
      "Anderas\n",
      "Gabi\n",
      "Killian\n",
      "Lucas\n",
      "Muyaud\n",
      "Oti\n",
      "Patricia\n",
      "Pierre\n"
     ]
    }
   ],
   "source": [
    "my_class=[\"Oti\",\"Lucas\",\"Gabi\",\"Anderas\",\"Pierre\",\"Patricia\",\"Killian\",\"Muyaud\"]    #Exercise 6\n",
    "my_class.sort()\n",
    "print(my_class[0])\n",
    "print(my_class[-1])\n",
    "for x in my_class:\n",
    "    print(x)"
   ]
  },
  {
   "cell_type": "code",
   "execution_count": 22,
   "metadata": {},
   "outputs": [
    {
     "name": "stdout",
     "output_type": "stream",
     "text": [
      "34\n",
      "30\n",
      "32\n"
     ]
    }
   ],
   "source": [
    "my_class_age=(34,30,27,29,35,32)    #Exercise 7a  with for loop\n",
    "for x in my_class_age:\n",
    "    if x%2==0:\n",
    "    print(x)"
   ]
  },
  {
   "cell_type": "markdown",
   "metadata": {},
   "source": []
  },
  {
   "cell_type": "code",
   "execution_count": 3,
   "metadata": {},
   "outputs": [
    {
     "name": "stdout",
     "output_type": "stream",
     "text": [
      "34\n",
      "30\n",
      "32\n"
     ]
    }
   ],
   "source": [
    "my_class_age=[34,30,27,29,35,32]  # Exercise 7 with while loop\n",
    "num=0\n",
    "while num <len(my_class_age):\n",
    "    if my_class_age[num]%2==0:\n",
    "        print(my_class_age[num])\n",
    "    \n",
    "    num+=1"
   ]
  },
  {
   "cell_type": "code",
   "execution_count": null,
   "metadata": {},
   "outputs": [],
   "source": []
  },
  {
   "cell_type": "code",
   "execution_count": 4,
   "metadata": {},
   "outputs": [
    {
     "name": "stdout",
     "output_type": "stream",
     "text": [
      "27\n"
     ]
    }
   ],
   "source": [
    "mylist=a =[34,30,27,29,35,32]\n",
    "x=min(a)\n",
    "print(x)                           # Exercise 8"
   ]
  },
  {
   "cell_type": "code",
   "execution_count": 5,
   "metadata": {},
   "outputs": [
    {
     "name": "stdout",
     "output_type": "stream",
     "text": [
      "35\n"
     ]
    }
   ],
   "source": [
    "a=[34,30,27,29,35,32]               #Exercise 9\n",
    "x=max(a)\n",
    "print(x)"
   ]
  },
  {
   "cell_type": "code",
   "execution_count": 7,
   "metadata": {},
   "outputs": [
    {
     "name": "stdout",
     "output_type": "stream",
     "text": [
      "1999\n",
      "1995\n",
      "2005\n",
      "2010\n",
      "2007\n",
      "2006\n",
      "1994\n",
      "1996\n",
      "1979\n",
      "2008\n"
     ]
    }
   ],
   "source": [
    "ages=[1999, 1995, 2005, 2010, 2007, 2006, 1994, 1996, 1979, 2008]      #Exercise 10\n",
    "\n",
    "for x in ages:\n",
    "    #a=2024\n",
    "    print(x)\n"
   ]
  },
  {
   "cell_type": "code",
   "execution_count": 15,
   "metadata": {},
   "outputs": [
    {
     "name": "stdout",
     "output_type": "stream",
     "text": [
      "Bob 1999\n",
      "Jack 1995\n",
      "Lisa 2005\n",
      "Maria 2010\n",
      "Ben 2007\n",
      "Emma 2006\n",
      "Oscar 1994\n",
      "Amy 1996\n",
      "Paul 1979\n",
      "Etta 2008\n"
     ]
    }
   ],
   "source": [
    "                                        ##Exercise 11 (1)\n",
    "customer_list = [\n",
    "                    {\"name\": \"Bob\", \"age\": 1999},\n",
    "                    {\"name\": \"Jack\", \"age\": 1995},\n",
    "                    {\"name\": \"Lisa\", \"age\": 2005},\n",
    "                    {\"name\": \"Maria\", \"age\": 2010},\n",
    "                    {\"name\": \"Ben\", \"age\": 2007},\n",
    "                    {\"name\": \"Emma\", \"age\": 2006},\n",
    "                    {\"name\": \"Oscar\", \"age\": 1994},\n",
    "                    {\"name\": \"Amy\", \"age\": 1996},\n",
    "                    {\"name\": \"Paul\", \"age\": 1979},\n",
    "                    {\"name\": \"Etta\", \"age\": 2008}\n",
    "                ]\n",
    "for x in customer_list:\n",
    "    print(x[\"name\"],x[\"age\"])\n"
   ]
  },
  {
   "cell_type": "code",
   "execution_count": 16,
   "metadata": {},
   "outputs": [
    {
     "name": "stdout",
     "output_type": "stream",
     "text": [
      "Bob is 25\n",
      "Jack is 29\n",
      "Lisa is 19\n",
      "Maria is 14\n",
      "Ben is 17\n",
      "Emma is 18\n",
      "Oscar is 30\n",
      "Amy is 28\n",
      "Paul is 45\n",
      "Etta is 16\n"
     ]
    }
   ],
   "source": [
    "                                     ##Exercise 11 (2) with a sentence\n",
    "customer_list = [\n",
    "                    {\"name\": \"Bob\", \"age\": 1999},\n",
    "                    {\"name\": \"Jack\", \"age\": 1995},\n",
    "                    {\"name\": \"Lisa\", \"age\": 2005},\n",
    "                    {\"name\": \"Maria\", \"age\": 2010},\n",
    "                    {\"name\": \"Ben\", \"age\": 2007},\n",
    "                    {\"name\": \"Emma\", \"age\": 2006},\n",
    "                    {\"name\": \"Oscar\", \"age\": 1994},\n",
    "                    {\"name\": \"Amy\", \"age\": 1996},\n",
    "                    {\"name\": \"Paul\", \"age\": 1979},\n",
    "                    {\"name\": \"Etta\", \"age\": 2008}\n",
    "              ]\n",
    "a=2024\n",
    "for x in customer_list:\n",
    "    customer_age=a-x[\"age\"]\n",
    "    print(x[\"name\"],\"is\", customer_age)\n"
   ]
  },
  {
   "cell_type": "code",
   "execution_count": 1,
   "metadata": {},
   "outputs": [
    {
     "name": "stdout",
     "output_type": "stream",
     "text": [
      "[11, 12, 13, 14, 20, 23, 24, 25]\n"
     ]
    }
   ],
   "source": [
    "ages =[20, 24, 14, 9, 12, 13, 25, 23, 40, 11] # Exercise 12  removing lowest ans highest ages without usinf min and max methods\n",
    "ages.sort()\n",
    "ages.pop(0)\n",
    "ages.pop(-1)\n",
    "print(ages)\n",
    "#print(ages[1:-1])\n"
   ]
  },
  {
   "cell_type": "code",
   "execution_count": 11,
   "metadata": {},
   "outputs": [
    {
     "name": "stdout",
     "output_type": "stream",
     "text": [
      "[10, 13, 15, 16, 18, 19]\n"
     ]
    }
   ],
   "source": [
    "berlin = [15, 13, 16, 18, 19, 10, 12 ]        ##Exercise 13       \n",
    "munich = [7, 13, 15, 20, 19, 18, 10, 16]\n",
    "\n",
    "common=[]\n",
    "for x in berlin:\n",
    "    if x in munich:\n",
    "        if x not in common:\n",
    "            common.append(x)\n",
    "            common.sort()\n",
    "print(common)"
   ]
  },
  {
   "cell_type": "code",
   "execution_count": 1,
   "metadata": {},
   "outputs": [
    {
     "name": "stdout",
     "output_type": "stream",
     "text": [
      "[15, 13, 16, 18, 19, 10]\n"
     ]
    }
   ],
   "source": [
    "berlin = [15, 13, 16, 18, 19, 10, 12 ]  #Exercise 13 using \"List comprehension\". This is used to create a new list from existing ones\n",
    "munich = [7, 13, 15, 20, 19, 18, 10, 16]\n",
    "common=[x for x in berlin if x in munich]\n",
    "print(common)"
   ]
  },
  {
   "cell_type": "code",
   "execution_count": 14,
   "metadata": {},
   "outputs": [
    {
     "name": "stdout",
     "output_type": "stream",
     "text": [
      "[10, 13, 15, 16, 18, 19]\n"
     ]
    }
   ],
   "source": [
    "a=[15,13,16,18,19,15,10]  #Exercise 14a #first method to remove duplicate for list using for loop\n",
    "b=[]\n",
    "for x in a:\n",
    "    if x not in b:\n",
    "        b.append(x)\n",
    "        b.sort()\n",
    "print(b)"
   ]
  },
  {
   "cell_type": "code",
   "execution_count": null,
   "metadata": {},
   "outputs": [],
   "source": []
  },
  {
   "cell_type": "code",
   "execution_count": 20,
   "metadata": {},
   "outputs": [
    {
     "name": "stdout",
     "output_type": "stream",
     "text": [
      "[10, 13, 15, 16, 18, 19]\n"
     ]
    }
   ],
   "source": [
    "a=[15,13,16,18,19,15,10]  #Exercise 14b. Second method to remove duplicate for list by coverting to dictionary and then to list\n",
    "mylist=list(dict.fromkeys(a)) #N/B dictionaries does not hold duplicates\n",
    "mylist.sort()\n",
    "print(mylist)"
   ]
  },
  {
   "cell_type": "code",
   "execution_count": 16,
   "metadata": {},
   "outputs": [
    {
     "name": "stdout",
     "output_type": "stream",
     "text": [
      "Welcome Evelyn, have a nice day!\n",
      "Welcome Jost, have a nice day!\n"
     ]
    }
   ],
   "source": [
    "                            ##Exercise 15\n",
    "def welcome():\n",
    "    print(\"Welcome Evelyn, have a nice day!\")\n",
    "    print(\"Welcome Jost, have a nice day!\")\n",
    "welcome()"
   ]
  },
  {
   "cell_type": "code",
   "execution_count": null,
   "metadata": {},
   "outputs": [],
   "source": [
    "a=input(\"Enter String: \")  ##Exercise 16  formular 1\n",
    "length=0                   #length is the counter of the actual length\n",
    "for x in a:\n",
    "    length+=1\n",
    "print(\"The length of String is \", length)\n",
    "\n"
   ]
  },
  {
   "cell_type": "code",
   "execution_count": null,
   "metadata": {},
   "outputs": [],
   "source": [
    "a=input(\"Enter String: \")   #Exercise 16 formular 2, Using a function\n",
    "#length=0\n",
    "def get_length():\n",
    "    length=0\n",
    "    for y in a:\n",
    "        length+=1\n",
    "    print(\"The length of the String is \", length)\n",
    "get_length()\n"
   ]
  },
  {
   "cell_type": "code",
   "execution_count": 93,
   "metadata": {},
   "outputs": [
    {
     "name": "stdout",
     "output_type": "stream",
     "text": [
      "Please enter your number: 30\n",
      "Yes!\n"
     ]
    }
   ],
   "source": [
    "                                      # Exercise 17  using  a function \n",
    "num=int(input(\"Please enter your number: \"))\n",
    "def check_even():\n",
    "    if num%2==0:\n",
    "        print(\"Yes!\")\n",
    "    else:\n",
    "        print(\"No!\")\n",
    "check_even()\n"
   ]
  },
  {
   "cell_type": "code",
   "execution_count": 94,
   "metadata": {},
   "outputs": [
    {
     "name": "stdout",
     "output_type": "stream",
     "text": [
      "Please enter your number: 3\n",
      "No!\n"
     ]
    }
   ],
   "source": [
    "num=int(input(\"Please enter your number: \"))   # Exercise without a function \n",
    "if num%2==0:\n",
    "    print(\"Yes!\")\n",
    "else:\n",
    "    print(\"No!\")"
   ]
  },
  {
   "cell_type": "code",
   "execution_count": null,
   "metadata": {},
   "outputs": [],
   "source": []
  },
  {
   "cell_type": "markdown",
   "metadata": {},
   "source": [
    "### Spike"
   ]
  },
  {
   "cell_type": "code",
   "execution_count": 11,
   "metadata": {},
   "outputs": [
    {
     "name": "stdout",
     "output_type": "stream",
     "text": [
      "Oti Godwin!\n",
      "Oti Godwin!\n",
      "Oti Godwin!\n",
      "Oti Godwin!\n",
      "Oti Godwin!\n"
     ]
    }
   ],
   "source": [
    "x=[1,2,3,4,5]                     ##for loop\n",
    "for y in x:\n",
    "    print(\"Oti Godwin!\")\n",
    "    "
   ]
  },
  {
   "cell_type": "code",
   "execution_count": 15,
   "metadata": {},
   "outputs": [
    {
     "name": "stdout",
     "output_type": "stream",
     "text": [
      "1 This is an odd number!\n",
      "2 This an even number!\n",
      "3 This is an odd number!\n",
      "4 This an even number!\n",
      "5 This is an odd number!\n",
      "6 This an even number!\n",
      "7 This is an odd number!\n"
     ]
    }
   ],
   "source": [
    "x=[1,2,3,4,5,6,7]\n",
    "for y in x:\n",
    "    if y%2==0:\n",
    "        print(y,\"This an even number!\")\n",
    "    else:\n",
    "        print(y,\"This is an odd number!\")\n",
    "     "
   ]
  },
  {
   "cell_type": "code",
   "execution_count": 13,
   "metadata": {},
   "outputs": [
    {
     "name": "stdout",
     "output_type": "stream",
     "text": [
      "45\n"
     ]
    }
   ],
   "source": [
    "mylist=[1,2,3,4,5,6,7,8,9]\n",
    "list_sum=0\n",
    "for num in mylist:\n",
    "    list_sum=list_sum+num\n",
    "print(list_sum)"
   ]
  },
  {
   "cell_type": "code",
   "execution_count": 21,
   "metadata": {},
   "outputs": [
    {
     "name": "stdout",
     "output_type": "stream",
     "text": [
      "2\n",
      "4\n",
      "6\n",
      "8\n",
      "10\n"
     ]
    }
   ],
   "source": [
    "my_list=[(1,2),(3,4),(5,6),(7,8),(9,10)]  #unpacking of Tuple\n",
    "for (x,y) in mylist:\n",
    "    print(y)"
   ]
  },
  {
   "cell_type": "code",
   "execution_count": null,
   "metadata": {},
   "outputs": [],
   "source": [
    "a={\"name\":\"Oti\", \"age\":29,\"country\":\"Nigeria\"}   # looping through Dictionary\n",
    "for x in a:\n",
    "    print(a[x])"
   ]
  },
  {
   "cell_type": "code",
   "execution_count": 42,
   "metadata": {},
   "outputs": [
    {
     "name": "stdout",
     "output_type": "stream",
     "text": [
      "0\n",
      "1\n",
      "2\n",
      "3\n",
      "4\n",
      "5\n"
     ]
    }
   ],
   "source": [
    "x=0                    #while loop\n",
    "while x <=5:\n",
    "    print(x)\n",
    "    x=x+1\n",
    "    "
   ]
  },
  {
   "cell_type": "code",
   "execution_count": null,
   "metadata": {},
   "outputs": [],
   "source": [
    "break \n",
    "continue\n",
    "pass"
   ]
  },
  {
   "cell_type": "code",
   "execution_count": 58,
   "metadata": {},
   "outputs": [],
   "source": [
    "b=(\"Oti Godwin\")\n",
    "while x in b:\n",
    "    if x ==\"d\":\n",
    "        break\n",
    "    print(x)"
   ]
  },
  {
   "cell_type": "code",
   "execution_count": 98,
   "metadata": {},
   "outputs": [
    {
     "name": "stdout",
     "output_type": "stream",
     "text": [
      "32\n",
      "46\n",
      "42\n"
     ]
    }
   ],
   "source": [
    "list_age=[32,31,45,46,73,23,42]       ## using while loop to check for even numbers \n",
    "age=0\n",
    "while age <len (list_age):\n",
    "    if list_age[age]%2==0:\n",
    "        print(list_age[age])\n",
    "    age+=1"
   ]
  },
  {
   "cell_type": "code",
   "execution_count": 62,
   "metadata": {},
   "outputs": [
    {
     "name": "stdout",
     "output_type": "stream",
     "text": [
      "A C\n",
      "E S\n",
      "D A\n",
      "R E\n",
      "F R\n",
      "G S\n",
      "T A\n",
      "H S\n",
      "Z E\n",
      "U R\n",
      "J T\n",
      "I D\n",
      "K D\n",
      "13\n"
     ]
    }
   ],
   "source": [
    "t=\"AEDRFGTHZUJIK\"          ## comparison between two DNA\n",
    "s=\"CSAERSASERTDD\"\n",
    "count=0\n",
    "for i in range(len(s)):\n",
    "    if t[i] !=s[i]:\n",
    "        count=count+1\n",
    "        print(t[i],s[i])\n",
    "print(count)\n"
   ]
  },
  {
   "cell_type": "code",
   "execution_count": 75,
   "metadata": {},
   "outputs": [
    {
     "name": "stdout",
     "output_type": "stream",
     "text": [
      "Not same!\n"
     ]
    }
   ],
   "source": [
    "t=\"AEDEFGTHZUJIK\"          ## comparison between two DNA\n",
    "s=\"CEAERSAHERTDD\"\n",
    "if t !=s:\n",
    "    print(\"Not same!\")\n",
    "    \n",
    "else:\n",
    "    print(\"Same!\")"
   ]
  },
  {
   "cell_type": "code",
   "execution_count": 77,
   "metadata": {},
   "outputs": [
    {
     "name": "stdout",
     "output_type": "stream",
     "text": [
      "Bob 1999\n",
      "Jack 1995\n",
      "Lisa 2005\n",
      "Maria 2010\n",
      "Ben 2007\n",
      "Emma 2006\n",
      "Oscar 1994\n",
      "Amy 1996\n",
      "Paul 1979\n",
      "Etta 2008\n"
     ]
    }
   ],
   "source": [
    "                                      ###Exercise 18 (Exercise 11 in a fucntion) \n",
    "def function():\n",
    "    customer_list = [\n",
    "                    {\"name\": \"Bob\", \"age\": 1999},\n",
    "                    {\"name\": \"Jack\", \"age\": 1995},\n",
    "                    {\"name\": \"Lisa\", \"age\": 2005},\n",
    "                    {\"name\": \"Maria\", \"age\": 2010},\n",
    "                    {\"name\": \"Ben\", \"age\": 2007},\n",
    "                    {\"name\": \"Emma\", \"age\": 2006},\n",
    "                    {\"name\": \"Oscar\", \"age\": 1994},\n",
    "                    {\"name\": \"Amy\", \"age\": 1996},\n",
    "                    {\"name\": \"Paul\", \"age\": 1979},\n",
    "                    {\"name\": \"Etta\", \"age\": 2008}\n",
    "                ]\n",
    "    for x in customer_list:\n",
    "        print(x[\"name\"],x[\"age\"])\n",
    "function()"
   ]
  },
  {
   "cell_type": "code",
   "execution_count": null,
   "metadata": {},
   "outputs": [],
   "source": [
    "def function():                         #11b\n",
    "    customer_list = [\n",
    "                    {\"name\": \"Bob\", \"age\": 1999},\n",
    "                    {\"name\": \"Jack\", \"age\": 1995},\n",
    "                    {\"name\": \"Lisa\", \"age\": 2005},\n",
    "                    {\"name\": \"Maria\", \"age\": 2010},\n",
    "                    {\"name\": \"Ben\", \"age\": 2007},\n",
    "                    {\"name\": \"Emma\", \"age\": 2006},\n",
    "                    {\"name\": \"Oscar\", \"age\": 1994},\n",
    "                    {\"name\": \"Amy\", \"age\": 1996},\n",
    "                    {\"name\": \"Paul\", \"age\": 1979},\n",
    "                    {\"name\": \"Etta\", \"age\": 2008}\n",
    "                ]\n",
    "    for x in customer_list:\n",
    "        a=2024\n",
    "        customer_age=a-x[\"age\"]\n",
    "        print(x[\"name\"],\"is\",customer_age,\"years old\")\n",
    "function()"
   ]
  },
  {
   "cell_type": "code",
   "execution_count": 83,
   "metadata": {},
   "outputs": [
    {
     "name": "stdout",
     "output_type": "stream",
     "text": [
      "[11, 12, 13, 14, 20, 23, 24, 25]\n"
     ]
    }
   ],
   "source": [
    "def myfunc():                    #Ex 12 in func\n",
    "    ages = [20, 24, 14, 9, 12, 13, 25, 23, 40, 11]\n",
    "    ages.sort()\n",
    "    \n",
    "    print(ages[1:-1])\n",
    "myfunc()\n",
    "\n",
    "    "
   ]
  },
  {
   "cell_type": "code",
   "execution_count": 84,
   "metadata": {},
   "outputs": [
    {
     "name": "stdout",
     "output_type": "stream",
     "text": [
      "[15, 13, 16, 18, 19, 10]\n"
     ]
    }
   ],
   "source": [
    "def com():                              #13 in function\n",
    "    berlin = [15, 13, 16, 18, 19, 10, 12 ]\n",
    "    munich = [7, 13, 15, 20, 19, 18, 10, 16]\n",
    "    b=[]\n",
    "    for x in berlin:\n",
    "        if x in munich:\n",
    "            if x not in b:\n",
    "                b.append(x)\n",
    "                b.sort()\n",
    "    print(b)\n",
    "    \n",
    "com()\n"
   ]
  },
  {
   "cell_type": "code",
   "execution_count": 86,
   "metadata": {},
   "outputs": [
    {
     "name": "stdout",
     "output_type": "stream",
     "text": [
      "[10, 13, 15, 16, 18, 19]\n"
     ]
    }
   ],
   "source": [
    "def bon():                  #Ex 14 in function\n",
    "    don=[15,13,16,18,19,15,10]\n",
    "    mydon=list(dict.fromkeys(don))\n",
    "    mydon.sort()\n",
    "    print(mydon)\n",
    "bon()"
   ]
  },
  {
   "cell_type": "code",
   "execution_count": 87,
   "metadata": {},
   "outputs": [
    {
     "name": "stdout",
     "output_type": "stream",
     "text": [
      "Welcome Evelyn, have a nice day!\n",
      "Welcome Jost, have a nice day!\n"
     ]
    }
   ],
   "source": [
    "def welcome():              #Ex 15\n",
    "    print(\"Welcome Evelyn, have a nice day!\")\n",
    "    print(\"Welcome Jost, have a nice day!\")\n",
    "welcome()"
   ]
  },
  {
   "cell_type": "code",
   "execution_count": null,
   "metadata": {},
   "outputs": [],
   "source": [
    "num=int(input(\"Enter Value: \")) #writing a fucntion that takes input and values as well as check if the value is on the list\n",
    "def function(num):\n",
    "    mylist=[1990,1993,1994,1995,1996,1997,1998,1999]\n",
    "   # for x in mylist:\n",
    "    if num in mylist:\n",
    "           return True\n",
    "         #print(\"True\")\n",
    "    else:\n",
    "          return False\n",
    "         #print(\"False\")\n",
    "function(num)\n"
   ]
  },
  {
   "cell_type": "code",
   "execution_count": 1,
   "metadata": {},
   "outputs": [],
   "source": [
    "x= \"Oti Godwin\""
   ]
  },
  {
   "cell_type": "code",
   "execution_count": 2,
   "metadata": {},
   "outputs": [
    {
     "name": "stdout",
     "output_type": "stream",
     "text": [
      "Oti Godwin\n"
     ]
    }
   ],
   "source": [
    "print(x)"
   ]
  }
 ],
 "metadata": {
  "kernelspec": {
   "display_name": "Python 3 (ipykernel)",
   "language": "python",
   "name": "python3"
  },
  "language_info": {
   "codemirror_mode": {
    "name": "ipython",
    "version": 3
   },
   "file_extension": ".py",
   "mimetype": "text/x-python",
   "name": "python",
   "nbconvert_exporter": "python",
   "pygments_lexer": "ipython3",
   "version": "3.11.5"
  }
 },
 "nbformat": 4,
 "nbformat_minor": 2
}
