{
 "cells": [
  {
   "cell_type": "code",
   "execution_count": 1,
   "id": "99dbd236",
   "metadata": {},
   "outputs": [
    {
     "name": "stdout",
     "output_type": "stream",
     "text": [
      "dlroW olleH\n"
     ]
    }
   ],
   "source": [
    "txt=\"Hello World\"\n",
    "print(txt[::-1])"
   ]
  },
  {
   "cell_type": "code",
   "execution_count": 1,
   "id": "69aa07a6",
   "metadata": {},
   "outputs": [],
   "source": [
    "def function(x):\n",
    "    return x[::-1]\n",
    "mytxt=function(\"The young shall grow\")\n",
    "print(mytxt)"
   ]
  },
  {
   "cell_type": "code",
   "execution_count": 1,
   "id": "3d397391",
   "metadata": {},
   "outputs": [],
   "source": [
    "x=input(\"Type a number\")\n",
    "y=input(\"Type another number\")\n",
    "sum=int(x)+int(y)\n",
    "print(\"The sum is: \", sum)"
   ]
  },
  {
   "cell_type": "code",
   "execution_count": 1,
   "id": "894a8350",
   "metadata": {},
   "outputs": [
    {
     "name": "stdout",
     "output_type": "stream",
     "text": [
      "The answer is:  7\n"
     ]
    }
   ],
   "source": [
    "x=input(\"Enter a number: \")\n",
    "y=input(\"Enter another number: \")\n",
    "sum= int(x) + int(y)\n",
    "print(\"The answer is: \", sum)"
   ]
  },
  {
   "cell_type": "code",
   "execution_count": 2,
   "id": "83eae4b5",
   "metadata": {},
   "outputs": [
    {
     "name": "stdout",
     "output_type": "stream",
     "text": [
      "5\n"
     ]
    }
   ],
   "source": [
    "txt=\"I love my life. I also hope to be very happy at old age\"   #counting  the number of os' in strings\n",
    "y=txt.count(\"o\")\n",
    "print(y)"
   ]
  }
 ],
 "metadata": {
  "kernelspec": {
   "display_name": "Python 3 (ipykernel)",
   "language": "python",
   "name": "python3"
  },
  "language_info": {
   "codemirror_mode": {
    "name": "ipython",
    "version": 3
   },
   "file_extension": ".py",
   "mimetype": "text/x-python",
   "name": "python",
   "nbconvert_exporter": "python",
   "pygments_lexer": "ipython3",
   "version": "3.11.5"
  }
 },
 "nbformat": 4,
 "nbformat_minor": 5
}
