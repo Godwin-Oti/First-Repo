{
 "cells": [
  {
   "cell_type": "code",
   "execution_count": 3,
   "id": "d6bcca71",
   "metadata": {},
   "outputs": [
    {
     "name": "stdout",
     "output_type": "stream",
     "text": [
      "23\n"
     ]
    }
   ],
   "source": [
    "import numpy         #printing the second index in the array\n",
    "arr=numpy.array([10,23,23,4,5])\n",
    "print(arr[1])"
   ]
  },
  {
   "cell_type": "code",
   "execution_count": 6,
   "id": "44cddb0e",
   "metadata": {},
   "outputs": [
    {
     "name": "stdout",
     "output_type": "stream",
     "text": [
      "[23 40 34 45 46]\n"
     ]
    }
   ],
   "source": [
    "import numpy as np          #creating np as alternate keyword for importing numpy\n",
    "arr=np.array([23,40,34,45,46])\n",
    "print(arr)"
   ]
  },
  {
   "cell_type": "code",
   "execution_count": 7,
   "id": "d8efe67d",
   "metadata": {},
   "outputs": [
    {
     "name": "stdout",
     "output_type": "stream",
     "text": [
      "1.24.3\n"
     ]
    }
   ],
   "source": [
    "import numpy as np        #checking numpy version \n",
    "print(np.__version__)"
   ]
  },
  {
   "cell_type": "code",
   "execution_count": 8,
   "id": "007eb6dc",
   "metadata": {},
   "outputs": [
    {
     "data": {
      "text/plain": [
       "array([1., 1., 1., 1., 1.])"
      ]
     },
     "execution_count": 8,
     "metadata": {},
     "output_type": "execute_result"
    }
   ],
   "source": [
    "np.ones(5)"
   ]
  },
  {
   "cell_type": "code",
   "execution_count": 9,
   "id": "c1c05cb7",
   "metadata": {},
   "outputs": [
    {
     "data": {
      "text/plain": [
       "array([[1., 1., 1., 1., 1.],\n",
       "       [1., 1., 1., 1., 1.],\n",
       "       [1., 1., 1., 1., 1.],\n",
       "       [1., 1., 1., 1., 1.]])"
      ]
     },
     "execution_count": 9,
     "metadata": {},
     "output_type": "execute_result"
    }
   ],
   "source": [
    "np.ones((4,5))"
   ]
  },
  {
   "cell_type": "code",
   "execution_count": 10,
   "id": "9840f6dc",
   "metadata": {},
   "outputs": [
    {
     "data": {
      "text/plain": [
       "array([ 0.        ,  0.3877551 ,  0.7755102 ,  1.16326531,  1.55102041,\n",
       "        1.93877551,  2.32653061,  2.71428571,  3.10204082,  3.48979592,\n",
       "        3.87755102,  4.26530612,  4.65306122,  5.04081633,  5.42857143,\n",
       "        5.81632653,  6.20408163,  6.59183673,  6.97959184,  7.36734694,\n",
       "        7.75510204,  8.14285714,  8.53061224,  8.91836735,  9.30612245,\n",
       "        9.69387755, 10.08163265, 10.46938776, 10.85714286, 11.24489796,\n",
       "       11.63265306, 12.02040816, 12.40816327, 12.79591837, 13.18367347,\n",
       "       13.57142857, 13.95918367, 14.34693878, 14.73469388, 15.12244898,\n",
       "       15.51020408, 15.89795918, 16.28571429, 16.67346939, 17.06122449,\n",
       "       17.44897959, 17.83673469, 18.2244898 , 18.6122449 , 19.        ])"
      ]
     },
     "execution_count": 10,
     "metadata": {},
     "output_type": "execute_result"
    }
   ],
   "source": [
    "np.linspace(0,19)"
   ]
  },
  {
   "cell_type": "code",
   "execution_count": 11,
   "id": "0837acaf",
   "metadata": {},
   "outputs": [
    {
     "data": {
      "text/plain": [
       "array([ 0.        ,  0.3877551 ,  0.7755102 ,  1.16326531,  1.55102041,\n",
       "        1.93877551,  2.32653061,  2.71428571,  3.10204082,  3.48979592,\n",
       "        3.87755102,  4.26530612,  4.65306122,  5.04081633,  5.42857143,\n",
       "        5.81632653,  6.20408163,  6.59183673,  6.97959184,  7.36734694,\n",
       "        7.75510204,  8.14285714,  8.53061224,  8.91836735,  9.30612245,\n",
       "        9.69387755, 10.08163265, 10.46938776, 10.85714286, 11.24489796,\n",
       "       11.63265306, 12.02040816, 12.40816327, 12.79591837, 13.18367347,\n",
       "       13.57142857, 13.95918367, 14.34693878, 14.73469388, 15.12244898,\n",
       "       15.51020408, 15.89795918, 16.28571429, 16.67346939, 17.06122449,\n",
       "       17.44897959, 17.83673469, 18.2244898 , 18.6122449 , 19.        ])"
      ]
     },
     "execution_count": 11,
     "metadata": {},
     "output_type": "execute_result"
    }
   ],
   "source": [
    "np.linspace(0,19,50)"
   ]
  },
  {
   "cell_type": "code",
   "execution_count": 12,
   "id": "ae7037ec",
   "metadata": {},
   "outputs": [
    {
     "data": {
      "text/plain": [
       "array([[1., 0., 0., 0., 0., 0., 0., 0., 0.],\n",
       "       [0., 1., 0., 0., 0., 0., 0., 0., 0.],\n",
       "       [0., 0., 1., 0., 0., 0., 0., 0., 0.],\n",
       "       [0., 0., 0., 1., 0., 0., 0., 0., 0.],\n",
       "       [0., 0., 0., 0., 1., 0., 0., 0., 0.],\n",
       "       [0., 0., 0., 0., 0., 1., 0., 0., 0.],\n",
       "       [0., 0., 0., 0., 0., 0., 1., 0., 0.],\n",
       "       [0., 0., 0., 0., 0., 0., 0., 1., 0.],\n",
       "       [0., 0., 0., 0., 0., 0., 0., 0., 1.]])"
      ]
     },
     "execution_count": 12,
     "metadata": {},
     "output_type": "execute_result"
    }
   ],
   "source": [
    "np.eye(9)"
   ]
  },
  {
   "cell_type": "code",
   "execution_count": 15,
   "id": "9f08f40a",
   "metadata": {},
   "outputs": [],
   "source": [
    "arr=np.random.randint(1,3,100)"
   ]
  },
  {
   "cell_type": "code",
   "execution_count": 16,
   "id": "5252f640",
   "metadata": {},
   "outputs": [
    {
     "data": {
      "text/plain": [
       "array([1, 2, 1, 2, 2, 2, 1, 1, 2, 1, 2, 1, 1, 2, 1, 2, 1, 2, 1, 2, 2, 2,\n",
       "       1, 1, 1, 1, 2, 1, 1, 2, 2, 1, 1, 2, 1, 2, 1, 1, 1, 1, 2, 2, 1, 2,\n",
       "       2, 2, 1, 1, 2, 2, 1, 2, 2, 1, 2, 2, 1, 1, 2, 1, 2, 1, 2, 1, 2, 1,\n",
       "       1, 1, 2, 2, 2, 1, 1, 1, 1, 1, 2, 2, 1, 2, 2, 1, 1, 2, 1, 2, 2, 1,\n",
       "       1, 1, 2, 2, 1, 2, 2, 1, 2, 1, 2, 1])"
      ]
     },
     "execution_count": 16,
     "metadata": {},
     "output_type": "execute_result"
    }
   ],
   "source": [
    "arr"
   ]
  },
  {
   "cell_type": "code",
   "execution_count": 17,
   "id": "d4bb6c1e",
   "metadata": {},
   "outputs": [],
   "source": [
    "arr=np.random.randint(1,3, size =(3,2))"
   ]
  },
  {
   "cell_type": "code",
   "execution_count": 18,
   "id": "9f416056",
   "metadata": {},
   "outputs": [
    {
     "data": {
      "text/plain": [
       "array([[2, 1],\n",
       "       [1, 1],\n",
       "       [2, 1]])"
      ]
     },
     "execution_count": 18,
     "metadata": {},
     "output_type": "execute_result"
    }
   ],
   "source": [
    "arr"
   ]
  },
  {
   "cell_type": "code",
   "execution_count": 19,
   "id": "5f850b6e",
   "metadata": {},
   "outputs": [],
   "source": [
    "arr=np.arange(25)"
   ]
  },
  {
   "cell_type": "code",
   "execution_count": 20,
   "id": "8ee9ab8b",
   "metadata": {},
   "outputs": [
    {
     "data": {
      "text/plain": [
       "array([ 0,  1,  2,  3,  4,  5,  6,  7,  8,  9, 10, 11, 12, 13, 14, 15, 16,\n",
       "       17, 18, 19, 20, 21, 22, 23, 24])"
      ]
     },
     "execution_count": 20,
     "metadata": {},
     "output_type": "execute_result"
    }
   ],
   "source": [
    "arr"
   ]
  },
  {
   "cell_type": "code",
   "execution_count": 22,
   "id": "f1e3a617",
   "metadata": {},
   "outputs": [
    {
     "data": {
      "text/plain": [
       "24"
      ]
     },
     "execution_count": 22,
     "metadata": {},
     "output_type": "execute_result"
    }
   ],
   "source": [
    "arr.argmax()"
   ]
  },
  {
   "cell_type": "code",
   "execution_count": 23,
   "id": "1fbb3811",
   "metadata": {},
   "outputs": [],
   "source": [
    "arr=np.random.randint(0,52,10)"
   ]
  },
  {
   "cell_type": "code",
   "execution_count": 24,
   "id": "a6f8d2ce",
   "metadata": {},
   "outputs": [
    {
     "data": {
      "text/plain": [
       "array([15, 32, 38, 40,  4, 14,  5, 21, 24, 26])"
      ]
     },
     "execution_count": 24,
     "metadata": {},
     "output_type": "execute_result"
    }
   ],
   "source": [
    "arr"
   ]
  },
  {
   "cell_type": "code",
   "execution_count": 25,
   "id": "9b253e25",
   "metadata": {},
   "outputs": [
    {
     "data": {
      "text/plain": [
       "array([ 4,  5, 14, 15, 21, 24, 26, 32, 38, 40])"
      ]
     },
     "execution_count": 25,
     "metadata": {},
     "output_type": "execute_result"
    }
   ],
   "source": [
    "np.sort(arr)"
   ]
  },
  {
   "cell_type": "code",
   "execution_count": null,
   "id": "b9305a97",
   "metadata": {},
   "outputs": [],
   "source": []
  },
  {
   "cell_type": "code",
   "execution_count": 28,
   "id": "dfbec2f4",
   "metadata": {},
   "outputs": [
    {
     "data": {
      "text/plain": [
       "dtype('int32')"
      ]
     },
     "execution_count": 28,
     "metadata": {},
     "output_type": "execute_result"
    }
   ],
   "source": [
    "arr.dtype"
   ]
  },
  {
   "cell_type": "code",
   "execution_count": 30,
   "id": "2cc46a19",
   "metadata": {},
   "outputs": [],
   "source": [
    "arr=np.arange(0,11)"
   ]
  },
  {
   "cell_type": "code",
   "execution_count": 31,
   "id": "c9c6e1fe",
   "metadata": {},
   "outputs": [
    {
     "data": {
      "text/plain": [
       "array([ 0,  1,  2,  3,  4,  5,  6,  7,  8,  9, 10])"
      ]
     },
     "execution_count": 31,
     "metadata": {},
     "output_type": "execute_result"
    }
   ],
   "source": [
    "arr"
   ]
  },
  {
   "cell_type": "code",
   "execution_count": 32,
   "id": "6b317369",
   "metadata": {},
   "outputs": [
    {
     "data": {
      "text/plain": [
       "6"
      ]
     },
     "execution_count": 32,
     "metadata": {},
     "output_type": "execute_result"
    }
   ],
   "source": [
    "arr[6]"
   ]
  },
  {
   "cell_type": "code",
   "execution_count": 33,
   "id": "62b30894",
   "metadata": {},
   "outputs": [
    {
     "data": {
      "text/plain": [
       "array([2, 3, 4])"
      ]
     },
     "execution_count": 33,
     "metadata": {},
     "output_type": "execute_result"
    }
   ],
   "source": [
    "arr[2:5]"
   ]
  },
  {
   "cell_type": "code",
   "execution_count": 34,
   "id": "34b1aede",
   "metadata": {},
   "outputs": [],
   "source": [
    "arr[0:4] =100"
   ]
  },
  {
   "cell_type": "code",
   "execution_count": 35,
   "id": "da14185d",
   "metadata": {},
   "outputs": [
    {
     "data": {
      "text/plain": [
       "array([100, 100, 100, 100,   4,   5,   6,   7,   8,   9,  10])"
      ]
     },
     "execution_count": 35,
     "metadata": {},
     "output_type": "execute_result"
    }
   ],
   "source": [
    "arr"
   ]
  },
  {
   "cell_type": "raw",
   "id": "7455c999",
   "metadata": {},
   "source": []
  },
  {
   "cell_type": "code",
   "execution_count": 36,
   "id": "931ca6a7",
   "metadata": {},
   "outputs": [],
   "source": [
    "arr[:]=100"
   ]
  },
  {
   "cell_type": "code",
   "execution_count": 37,
   "id": "3398e3eb",
   "metadata": {},
   "outputs": [
    {
     "data": {
      "text/plain": [
       "array([100, 100, 100, 100, 100, 100, 100, 100, 100, 100, 100])"
      ]
     },
     "execution_count": 37,
     "metadata": {},
     "output_type": "execute_result"
    }
   ],
   "source": [
    "arr"
   ]
  },
  {
   "cell_type": "code",
   "execution_count": 38,
   "id": "7a19c4fc",
   "metadata": {},
   "outputs": [],
   "source": [
    "arr=np.array([23,34,65,78,98])"
   ]
  },
  {
   "cell_type": "code",
   "execution_count": 40,
   "id": "d1f03cd1",
   "metadata": {},
   "outputs": [
    {
     "data": {
      "text/plain": [
       "numpy.ndarray"
      ]
     },
     "execution_count": 40,
     "metadata": {},
     "output_type": "execute_result"
    }
   ],
   "source": [
    "type(arr)"
   ]
  },
  {
   "cell_type": "code",
   "execution_count": 41,
   "id": "6217680d",
   "metadata": {},
   "outputs": [
    {
     "data": {
      "text/plain": [
       "dtype('int32')"
      ]
     },
     "execution_count": 41,
     "metadata": {},
     "output_type": "execute_result"
    }
   ],
   "source": [
    "arr.dtype"
   ]
  },
  {
   "cell_type": "code",
   "execution_count": 44,
   "id": "0a3ba5c4",
   "metadata": {},
   "outputs": [],
   "source": [
    "import numpy as np\n",
    "arr=np.array(4)  #zero dimensional array\n"
   ]
  },
  {
   "cell_type": "code",
   "execution_count": 45,
   "id": "ea5beb9f",
   "metadata": {},
   "outputs": [
    {
     "data": {
      "text/plain": [
       "array(4)"
      ]
     },
     "execution_count": 45,
     "metadata": {},
     "output_type": "execute_result"
    }
   ],
   "source": [
    "arr"
   ]
  },
  {
   "cell_type": "code",
   "execution_count": 46,
   "id": "523295b2",
   "metadata": {},
   "outputs": [],
   "source": [
    "arr=np.array([1,2,3,4,5,6,6,78])  #1D array"
   ]
  },
  {
   "cell_type": "code",
   "execution_count": 47,
   "id": "0e151b81",
   "metadata": {},
   "outputs": [
    {
     "data": {
      "text/plain": [
       "array([ 1,  2,  3,  4,  5,  6,  6, 78])"
      ]
     },
     "execution_count": 47,
     "metadata": {},
     "output_type": "execute_result"
    }
   ],
   "source": [
    "arr"
   ]
  },
  {
   "cell_type": "code",
   "execution_count": 49,
   "id": "cee22cd9",
   "metadata": {},
   "outputs": [],
   "source": [
    "arr=np.array([[1,2,3],[4,5,6]])  #2D array"
   ]
  },
  {
   "cell_type": "code",
   "execution_count": 50,
   "id": "8a90061e",
   "metadata": {},
   "outputs": [
    {
     "data": {
      "text/plain": [
       "array([[1, 2, 3],\n",
       "       [4, 5, 6]])"
      ]
     },
     "execution_count": 50,
     "metadata": {},
     "output_type": "execute_result"
    }
   ],
   "source": [
    "arr"
   ]
  },
  {
   "cell_type": "code",
   "execution_count": 51,
   "id": "28280939",
   "metadata": {},
   "outputs": [],
   "source": [
    "arr=np.array([[[1,2,3],[4,5,6]],[[7,8,9],[10,11,12]]]) # 3D array"
   ]
  },
  {
   "cell_type": "code",
   "execution_count": 52,
   "id": "8592adc1",
   "metadata": {},
   "outputs": [
    {
     "data": {
      "text/plain": [
       "array([[[ 1,  2,  3],\n",
       "        [ 4,  5,  6]],\n",
       "\n",
       "       [[ 7,  8,  9],\n",
       "        [10, 11, 12]]])"
      ]
     },
     "execution_count": 52,
     "metadata": {},
     "output_type": "execute_result"
    }
   ],
   "source": [
    "arr"
   ]
  },
  {
   "cell_type": "code",
   "execution_count": 56,
   "id": "f9baac1f",
   "metadata": {},
   "outputs": [],
   "source": [
    "arr0=np.array(4)\n",
    "arr1=np.array([1,2,3,4,5,6,6,78])\n",
    "arr2=np.array([[1,2,3],[4,5,6]])\n",
    "arr3=np.array([[[1,2,3],[4,5,6]],[[7,8,9],[10,11,12]]])"
   ]
  },
  {
   "cell_type": "code",
   "execution_count": 59,
   "id": "57879cbb",
   "metadata": {},
   "outputs": [
    {
     "name": "stdout",
     "output_type": "stream",
     "text": [
      "4\n",
      "[ 1  2  3  4  5  6  6 78]\n",
      "[[1 2 3]\n",
      " [4 5 6]]\n",
      "[[[ 1  2  3]\n",
      "  [ 4  5  6]]\n",
      "\n",
      " [[ 7  8  9]\n",
      "  [10 11 12]]]\n"
     ]
    }
   ],
   "source": [
    "print(arr0)\n",
    "print(arr1)\n",
    "print(arr2)\n",
    "print(arr3)"
   ]
  },
  {
   "cell_type": "code",
   "execution_count": 60,
   "id": "f436e390",
   "metadata": {},
   "outputs": [
    {
     "name": "stdout",
     "output_type": "stream",
     "text": [
      "0\n",
      "1\n",
      "2\n",
      "3\n"
     ]
    }
   ],
   "source": [
    "print(arr0.ndim)     #checking number of dimensions of array using \"ndim\" moethod\n",
    "print(arr1.ndim)\n",
    "print(arr2.ndim)\n",
    "print(arr3.ndim)"
   ]
  },
  {
   "cell_type": "code",
   "execution_count": 61,
   "id": "490f0325",
   "metadata": {},
   "outputs": [],
   "source": [
    "import numpy as np      \n",
    "arr=np.array([1,2,3,4,5,6,7], ndmin=5)  #creating an array with 5 dimension using \"ndmin\" argument"
   ]
  },
  {
   "cell_type": "code",
   "execution_count": 62,
   "id": "2ec91e22",
   "metadata": {},
   "outputs": [
    {
     "data": {
      "text/plain": [
       "array([[[[[1, 2, 3, 4, 5, 6, 7]]]]])"
      ]
     },
     "execution_count": 62,
     "metadata": {},
     "output_type": "execute_result"
    }
   ],
   "source": [
    "arr"
   ]
  },
  {
   "cell_type": "code",
   "execution_count": 63,
   "id": "57b118b9",
   "metadata": {},
   "outputs": [
    {
     "data": {
      "text/plain": [
       "5"
      ]
     },
     "execution_count": 63,
     "metadata": {},
     "output_type": "execute_result"
    }
   ],
   "source": [
    "\n",
    "arr.ndim"
   ]
  },
  {
   "cell_type": "code",
   "execution_count": 64,
   "id": "5a9ff68c",
   "metadata": {},
   "outputs": [
    {
     "data": {
      "text/plain": [
       "dtype('int32')"
      ]
     },
     "execution_count": 64,
     "metadata": {},
     "output_type": "execute_result"
    }
   ],
   "source": [
    "arr.dtype"
   ]
  },
  {
   "cell_type": "markdown",
   "id": "74e4a4a1",
   "metadata": {},
   "source": [
    "## Indexing in Array"
   ]
  },
  {
   "cell_type": "code",
   "execution_count": 65,
   "id": "ddca01e0",
   "metadata": {},
   "outputs": [
    {
     "name": "stdout",
     "output_type": "stream",
     "text": [
      "4\n"
     ]
    }
   ],
   "source": [
    "import numpy as np   #1D array\n",
    "arr=np.array([1,2,3,4,5])\n",
    "print(arr[3])"
   ]
  },
  {
   "cell_type": "code",
   "execution_count": 66,
   "id": "60f3816f",
   "metadata": {},
   "outputs": [
    {
     "data": {
      "text/plain": [
       "8"
      ]
     },
     "execution_count": 66,
     "metadata": {},
     "output_type": "execute_result"
    }
   ],
   "source": [
    "arr[2] + arr[4]     #addition using index"
   ]
  },
  {
   "cell_type": "code",
   "execution_count": 70,
   "id": "ea6b68ea",
   "metadata": {},
   "outputs": [
    {
     "name": "stdout",
     "output_type": "stream",
     "text": [
      "2nd element on 1st row:  2\n"
     ]
    }
   ],
   "source": [
    "arr=np.array([[1,2,3],[4,5,6]]) #2D array print 2nd element in the first row.. Here the first row is indexed \"0\" and the 2nd \"1\"\n",
    "print(\"2nd element on 1st row: \",arr[0,1])"
   ]
  },
  {
   "cell_type": "code",
   "execution_count": 72,
   "id": "af3b1d35",
   "metadata": {},
   "outputs": [
    {
     "data": {
      "text/plain": [
       "6"
      ]
     },
     "execution_count": 72,
     "metadata": {},
     "output_type": "execute_result"
    }
   ],
   "source": [
    "arr[1,-1]  # accessing the last element of the 2nd row\n",
    "#arr[1,2] "
   ]
  },
  {
   "cell_type": "code",
   "execution_count": 74,
   "id": "b2fb7a65",
   "metadata": {},
   "outputs": [
    {
     "name": "stdout",
     "output_type": "stream",
     "text": [
      "6\n"
     ]
    }
   ],
   "source": [
    "arr = np.array([[[1, 2, 3], [4, 5, 6]], [[7, 8, 9], [10, 11, 12]]]) #3D array accessing the 3rd element of the 2nd array of first array\n",
    "print(arr[0,1,2])\n"
   ]
  },
  {
   "cell_type": "code",
   "execution_count": 75,
   "id": "0425380a",
   "metadata": {},
   "outputs": [
    {
     "name": "stdout",
     "output_type": "stream",
     "text": [
      "6\n"
     ]
    }
   ],
   "source": [
    "arr=np.array([[2,4,6],[8,10,12]]) # indexing with negative index\n",
    "print(arr[0,-1])"
   ]
  },
  {
   "cell_type": "markdown",
   "id": "f41ec241",
   "metadata": {},
   "source": [
    "# Numpy Array Slicing "
   ]
  },
  {
   "cell_type": "code",
   "execution_count": 76,
   "id": "984e8e0b",
   "metadata": {},
   "outputs": [
    {
     "name": "stdout",
     "output_type": "stream",
     "text": [
      "[2 3 4]\n"
     ]
    }
   ],
   "source": [
    "import numpy as np\n",
    "arr=np.array([1,2,3,4,5,6,7])\n",
    "print(arr[1:4])# start :end"
   ]
  },
  {
   "cell_type": "code",
   "execution_count": 83,
   "id": "abf6c7d9",
   "metadata": {},
   "outputs": [
    {
     "name": "stdout",
     "output_type": "stream",
     "text": [
      "[1 3 5 7 9]\n"
     ]
    }
   ],
   "source": [
    "arr=np.array([1,2,3,4,5,6,7,8,9,10])\n",
    "print(arr[::2])  # step gives instruction how the slicing will go,, for exmaple here is in 2s\n",
    "\n",
    "#\":::\" meaning start, end and stesp"
   ]
  },
  {
   "cell_type": "code",
   "execution_count": 87,
   "id": "026a3d5f",
   "metadata": {},
   "outputs": [
    {
     "name": "stdout",
     "output_type": "stream",
     "text": [
      "[7 8 9]\n"
     ]
    }
   ],
   "source": [
    "arr=np.array([[1,2,3,4,5],[6,7,8,9,10]]) # slicing 2D array\n",
    "print(arr[1,1:4])  # This means 1 is the index of the 2nd element in the array, while 1:4 means that we are returning elements from index 1 before 4"
   ]
  },
  {
   "cell_type": "code",
   "execution_count": 95,
   "id": "474e8bae",
   "metadata": {},
   "outputs": [
    {
     "name": "stdout",
     "output_type": "stream",
     "text": [
      "[[2 3 4]\n",
      " [7 8 9]]\n"
     ]
    }
   ],
   "source": [
    "arr=np.array([[1,2,3,4,5],[6,7,8,9,10]])\n",
    "print(arr[0:2, 1:4])# Here \"0:2\" means the first and 2nd array which has index 0 and 1. now we are printing element in both arrays from index 1 x to 4. "
   ]
  },
  {
   "cell_type": "markdown",
   "id": "7c38a1af",
   "metadata": {},
   "source": [
    "  # Numpy array Shape"
   ]
  },
  {
   "cell_type": "code",
   "execution_count": 96,
   "id": "396cb83d",
   "metadata": {},
   "outputs": [
    {
     "name": "stdout",
     "output_type": "stream",
     "text": [
      "(2, 5)\n"
     ]
    }
   ],
   "source": [
    "arr=np.array([[1,2,3,4,5],[6,7,8,9,10]]) ## this returns the number of rows and columns in an array\n",
    "print(arr.shape)\n"
   ]
  },
  {
   "cell_type": "code",
   "execution_count": 99,
   "id": "8c039e53",
   "metadata": {},
   "outputs": [
    {
     "name": "stdout",
     "output_type": "stream",
     "text": [
      "(1, 1, 1, 1, 1, 4)\n"
     ]
    }
   ],
   "source": [
    "arr=np.array([1,2,3,4], ndmin=6)\n",
    "print(arr.shape)"
   ]
  },
  {
   "cell_type": "markdown",
   "id": "8ce37cfc",
   "metadata": {},
   "source": [
    "## Numpy Array Reshaping"
   ]
  },
  {
   "cell_type": "code",
   "execution_count": 102,
   "id": "e2274691",
   "metadata": {},
   "outputs": [
    {
     "name": "stdout",
     "output_type": "stream",
     "text": [
      "[[ 1  2  3]\n",
      " [ 4  5  6]\n",
      " [ 7  8  9]\n",
      " [10 11 12]]\n"
     ]
    }
   ],
   "source": [
    "arr=np.array([1,2,3,4,5,6,7,8,9,10,11,12])\n",
    "narr=arr.reshape(4,3)  #Here we changing the shape of the array from 1D to 2D\n",
    "print(narr)"
   ]
  },
  {
   "cell_type": "code",
   "execution_count": 105,
   "id": "9bf1150d",
   "metadata": {},
   "outputs": [
    {
     "name": "stdout",
     "output_type": "stream",
     "text": [
      "[[[ 1  2]\n",
      "  [ 3  4]\n",
      "  [ 5  6]]\n",
      "\n",
      " [[ 7  8]\n",
      "  [ 9 10]\n",
      "  [11 12]]]\n"
     ]
    }
   ],
   "source": [
    "arr=np.array([1,2,3,4,5,6,7,8,9,10,11,12])\n",
    "newarr=arr.reshape(2,3,2) # This means there are 2 arrays in an array and each array has 3 elemnets  finally each of the 3 elements has 2 element or values\n",
    "print(newarr)"
   ]
  },
  {
   "cell_type": "code",
   "execution_count": null,
   "id": "68a3ec95",
   "metadata": {},
   "outputs": [],
   "source": []
  },
  {
   "cell_type": "code",
   "execution_count": null,
   "id": "6cca67bb",
   "metadata": {},
   "outputs": [],
   "source": []
  }
 ],
 "metadata": {
  "kernelspec": {
   "display_name": "Python 3 (ipykernel)",
   "language": "python",
   "name": "python3"
  },
  "language_info": {
   "codemirror_mode": {
    "name": "ipython",
    "version": 3
   },
   "file_extension": ".py",
   "mimetype": "text/x-python",
   "name": "python",
   "nbconvert_exporter": "python",
   "pygments_lexer": "ipython3",
   "version": "3.11.5"
  }
 },
 "nbformat": 4,
 "nbformat_minor": 5
}
